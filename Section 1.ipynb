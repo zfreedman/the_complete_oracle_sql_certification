{
 "cells": [
  {
   "cell_type": "markdown",
   "metadata": {},
   "source": [
    "# Section 1\n",
    "## Read in database credentials\n",
    "Below the credentials for connecting to the database are read into variables by extracting the lines from the local file. The local file is not included in the repo."
   ]
  },
  {
   "cell_type": "code",
   "execution_count": 3,
   "metadata": {},
   "outputs": [],
   "source": [
    "db_name = \"\"\n",
    "db_user = \"\"\n",
    "db_pass = \"\"\n",
    "db_host = \"\"\n",
    "with open(\"database_credentials.txt\") as f:\n",
    "    db_name = f.readline().strip()\n",
    "    db_user = f.readline().strip()\n",
    "    db_pass = f.readline().strip()\n",
    "    db_host = f.readline().strip()"
   ]
  },
  {
   "cell_type": "markdown",
   "metadata": {},
   "source": [
    "## Test connection\n",
    "The next code segment tests to ensure that the database connection is working properly."
   ]
  },
  {
   "cell_type": "code",
   "execution_count": 4,
   "metadata": {
    "collapsed": true
   },
   "outputs": [],
   "source": [
    "import pymysql as pms"
   ]
  },
  {
   "cell_type": "code",
   "execution_count": 5,
   "metadata": {},
   "outputs": [
    {
     "name": "stdout",
     "output_type": "stream",
     "text": [
      "Successfully connected\n",
      "Closing connection\n"
     ]
    }
   ],
   "source": [
    "try:\n",
    "    con = pms.connect(host=db_host, user=db_user, passwd=db_pass, db=db_name)\n",
    "    print(\"Successfully connected\")\n",
    "finally:\n",
    "    if con:\n",
    "        print(\"Closing connection\")\n",
    "        con.close()"
   ]
  },
  {
   "cell_type": "markdown",
   "metadata": {},
   "source": [
    "## Making a table\n",
    "The below code creates a sample table."
   ]
  },
  {
   "cell_type": "code",
   "execution_count": 6,
   "metadata": {},
   "outputs": [],
   "source": [
    "try:\n",
    "    con = pms.connect(host=db_host, user=db_user, passwd=db_pass, db=db_name)\n",
    "    \n",
    "    cur = con.cursor()\n",
    "    #SQL used for table creation\n",
    "    sql = \"\"\"\n",
    "    CREATE TABLE IF NOT EXISTS dept(\n",
    "        deptno INT(2),\n",
    "        dname VARCHAR(14),\n",
    "        loc VARCHAR(13),\n",
    "        CONSTRAINT pk_dept PRIMARY KEY (deptno)\n",
    "    );\n",
    "    \"\"\"\n",
    "    #Execute\n",
    "    cur.execute(sql)\n",
    "    \n",
    "    sql = \"\"\"\n",
    "    CREATE TABLE IF NOT EXISTS emp(\n",
    "        empno INT(4),\n",
    "        ename VARCHAR(10),\n",
    "        job VARCHAR(9),\n",
    "        mgr INT(4),\n",
    "        hiredate DATE,\n",
    "        sal FLOAT(7,2),\n",
    "        comm FLOAT(7,2),\n",
    "        deptno INT(2),\n",
    "        CONSTRAINT pk_emp PRIMARY KEY (empno),\n",
    "        CONSTRAINT fk_dpetno FOREIGN KEY (deptno) REFERENCES DEPT (deptno)\n",
    "    );\n",
    "    \"\"\"\n",
    "    cur.execute(sql)\n",
    "finally:\n",
    "    if con:\n",
    "        cur.close()\n",
    "        con.close()"
   ]
  },
  {
   "cell_type": "markdown",
   "metadata": {},
   "source": [
    "## Insertions\n",
    "Below some Oracle code is translated into MySQL code. This code is responsible for populating the databases with entries."
   ]
  },
  {
   "cell_type": "code",
   "execution_count": 7,
   "metadata": {
    "collapsed": true
   },
   "outputs": [],
   "source": [
    "try:\n",
    "    con = pms.connect(host=db_host, user=db_user, passwd=db_pass, db=db_name)\n",
    "    #Use to save inserts\n",
    "    con.autocommit(True)\n",
    "    \n",
    "    cur = con.cursor()\n",
    "    \n",
    "    #Skip if database is already populated\n",
    "    cur.execute(\"select * from dept\")\n",
    "    if not cur.fetchone():\n",
    "        #Oracle statements\n",
    "        oracle = \"\"\"\n",
    "            insert into dept\n",
    "            values(10, 'ACCOUNTING', 'NEW YORK');\n",
    "            insert into dept\n",
    "            values(20, 'RESEARCH', 'DALLAS');\n",
    "            insert into dept\n",
    "            values(30, 'SALES', 'CHICAGO');\n",
    "            insert into dept\n",
    "            values(40, 'OPERATIONS', 'BOSTON');\n",
    "\n",
    "            insert into emp\n",
    "            values(\n",
    "             7839, 'KING', 'PRESIDENT', null,\n",
    "             to_date('17-11-1981','dd-mm-yyyy'),\n",
    "             5000, null, 10\n",
    "            );\n",
    "            insert into emp\n",
    "            values(\n",
    "             7698, 'BLAKE', 'MANAGER', 7839,\n",
    "             to_date('1-5-1981','dd-mm-yyyy'),\n",
    "             2850, null, 30\n",
    "            );\n",
    "            insert into emp\n",
    "            values(\n",
    "             7782, 'CLARK', 'MANAGER', 7839,\n",
    "             to_date('9-6-1981','dd-mm-yyyy'),\n",
    "             2450, null, 10\n",
    "            );\n",
    "            insert into emp\n",
    "            values(\n",
    "             7566, 'JONES', 'MANAGER', 7839,\n",
    "             to_date('2-4-1981','dd-mm-yyyy'),\n",
    "             2975, null, 20\n",
    "            );\n",
    "            insert into emp\n",
    "            values(\n",
    "             7788, 'SCOTT', 'ANALYST', 7566,\n",
    "             to_date('9-12-1981','dd-mm-yyyy'),\n",
    "             3000, null, 20\n",
    "            );\n",
    "            insert into emp\n",
    "            values(\n",
    "             7902, 'FORD', 'ANALYST', 7566,\n",
    "             to_date('3-12-1981','dd-mm-yyyy'),\n",
    "             3000, null, 20\n",
    "            );\n",
    "            insert into emp\n",
    "            values(\n",
    "             7369, 'SMITH', 'CLERK', 7902,\n",
    "             to_date('17-12-1980','dd-mm-yyyy'),\n",
    "             800, null, 20\n",
    "            );\n",
    "            insert into emp\n",
    "            values(\n",
    "             7499, 'ALLEN', 'SALESMAN', 7698,\n",
    "             to_date('20-2-1981','dd-mm-yyyy'),\n",
    "             1600, 300, 30\n",
    "            );\n",
    "            insert into emp\n",
    "            values(\n",
    "             7521, 'WARD', 'SALESMAN', 7698,\n",
    "             to_date('22-2-1981','dd-mm-yyyy'),\n",
    "             1250, 500, 30\n",
    "            );\n",
    "            insert into emp\n",
    "            values(\n",
    "             7654, 'MARTIN', 'SALESMAN', 7698,\n",
    "             to_date('28-9-1981','dd-mm-yyyy'),\n",
    "             1250, 1400, 30\n",
    "            );\n",
    "            insert into emp\n",
    "            values(\n",
    "             7844, 'TURNER', 'SALESMAN', 7698,\n",
    "             to_date('8-9-1981','dd-mm-yyyy'),\n",
    "             1500, 0, 30\n",
    "            );\n",
    "            insert into emp\n",
    "            values(\n",
    "             7876, 'ADAMS', 'CLERK', 7788,\n",
    "             to_date('12-1-1983', 'dd-mm-yyyy'),\n",
    "             1100, null, 20\n",
    "            );\n",
    "            insert into emp\n",
    "            values(\n",
    "             7900, 'JAMES', 'CLERK', 7698,\n",
    "             to_date('3-12-1981','dd-mm-yyyy'),\n",
    "             950, null, 30\n",
    "            );\n",
    "            insert into emp\n",
    "            values(\n",
    "             7934, 'MILLER', 'CLERK', 7782,\n",
    "             to_date('23-1-1982','dd-mm-yyyy'),\n",
    "             1300, null, 10\n",
    "            );\n",
    "        \"\"\"\n",
    "\n",
    "        #MySQL statements\n",
    "        mysql = oracle.split(\";\")\n",
    "        #Map MySQL syntax\n",
    "        mysql1 = list(map(lambda s : s.replace(\"dept\", \"dept (deptno, dname, loc)\"), mysql[:4]))\n",
    "        mysql2 = list(\n",
    "            map(\n",
    "                lambda s : s.replace(\n",
    "                    \"emp\", \"emp (empno, ename, job, mgr, hiredate, sal, comm, deptno)\").replace(\n",
    "                    \"to_date\", \"str_to_date\").replace(\n",
    "                    \"dd-mm-yyyy\", \"%d-%m-%Y\"),\n",
    "                mysql[4:]))\n",
    "        #Rejoin query string\n",
    "        mysql = \";\".join(mysql1 + mysql2).split(\";\")[:-1]\n",
    "        #Execute each statement individually\n",
    "        for s in mysql:\n",
    "            cur.execute(s)\n",
    "finally:\n",
    "    if con:\n",
    "        con.close()"
   ]
  },
  {
   "cell_type": "markdown",
   "metadata": {},
   "source": [
    "## Shorthand connect to database\n",
    "This method will just return a new database connection with the default credentials made available above."
   ]
  },
  {
   "cell_type": "code",
   "execution_count": 8,
   "metadata": {
    "collapsed": true
   },
   "outputs": [],
   "source": [
    "def get_connect():\n",
    "    \"\"\"\n",
    "    Returns a database connection object using the default parameters\n",
    "    specified in the database_credentials file read in at the start of\n",
    "    this notebook.\n",
    "    \"\"\"\n",
    "    return pms.connect(host=db_host, user=db_user, passwd=db_pass, db=db_name);"
   ]
  },
  {
   "cell_type": "markdown",
   "metadata": {},
   "source": [
    "## DISTINCT select\n",
    "Selecting the distinct values associated with a specific column is demonstrated below."
   ]
  },
  {
   "cell_type": "code",
   "execution_count": 9,
   "metadata": {},
   "outputs": [
    {
     "name": "stdout",
     "output_type": "stream",
     "text": [
      "(('CLERK',), ('SALESMAN',), ('MANAGER',), ('ANALYST',), ('PRESIDENT',))\n"
     ]
    }
   ],
   "source": [
    "try:\n",
    "    con = get_connect()\n",
    "    cur = con.cursor()\n",
    "    \n",
    "    #Distinct selection\n",
    "    sql = \"\"\"\n",
    "        SELECT DISTINCT job FROM emp\n",
    "    \"\"\"\n",
    "    cur.execute(sql)\n",
    "    print(cur.fetchall())\n",
    "finally:\n",
    "    if con:\n",
    "        con.close()"
   ]
  }
 ],
 "metadata": {
  "kernelspec": {
   "display_name": "Python 3",
   "language": "python",
   "name": "python3"
  },
  "language_info": {
   "codemirror_mode": {
    "name": "ipython",
    "version": 3
   },
   "file_extension": ".py",
   "mimetype": "text/x-python",
   "name": "python",
   "nbconvert_exporter": "python",
   "pygments_lexer": "ipython3",
   "version": "3.5.4"
  }
 },
 "nbformat": 4,
 "nbformat_minor": 2
}
