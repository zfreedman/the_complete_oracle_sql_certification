{
 "cells": [
  {
   "cell_type": "markdown",
   "metadata": {},
   "source": [
    "# Section 3\n",
    "## Read in database credentials\n",
    "Below the credentials for connecting to the database are read into variables by extracting the lines from the local file. The local file is not included in the repo."
   ]
  },
  {
   "cell_type": "code",
   "execution_count": 1,
   "metadata": {},
   "outputs": [],
   "source": [
    "db_name = \"\"\n",
    "db_user = \"\"\n",
    "db_pass = \"\"\n",
    "db_host = \"\"\n",
    "with open(\"database_credentials.txt\") as f:\n",
    "    db_name = f.readline().strip()\n",
    "    db_user = f.readline().strip()\n",
    "    db_pass = f.readline().strip()\n",
    "    db_host = f.readline().strip()"
   ]
  },
  {
   "cell_type": "markdown",
   "metadata": {},
   "source": [
    "## Shorthand connect to database\n",
    "This method will just return a new database connection with the default credentials made available above."
   ]
  },
  {
   "cell_type": "code",
   "execution_count": 2,
   "metadata": {},
   "outputs": [],
   "source": [
    "import pymysql as pms"
   ]
  },
  {
   "cell_type": "code",
   "execution_count": 3,
   "metadata": {},
   "outputs": [],
   "source": [
    "def get_connect():\n",
    "    \"\"\"\n",
    "    Returns a database connection object using the default parameters\n",
    "    specified in the database_credentials file read in at the start of\n",
    "    this notebook.\n",
    "    \"\"\"\n",
    "    return pms.connect(host=db_host, user=db_user, passwd=db_pass, db=db_name);"
   ]
  },
  {
   "cell_type": "markdown",
   "metadata": {},
   "source": [
    "## Test connection\n",
    "The next code segment tests to ensure that the database connection is working properly."
   ]
  },
  {
   "cell_type": "code",
   "execution_count": 4,
   "metadata": {},
   "outputs": [
    {
     "name": "stdout",
     "output_type": "stream",
     "text": [
      "Successfully connected\n",
      "Closing connection\n"
     ]
    }
   ],
   "source": [
    "try:\n",
    "    con = get_connect()\n",
    "    print(\"Successfully connected\")\n",
    "finally:\n",
    "    if con:\n",
    "        print(\"Closing connection\")\n",
    "        con.close()"
   ]
  },
  {
   "cell_type": "code",
   "execution_count": 5,
   "metadata": {},
   "outputs": [],
   "source": [
    "def get_connect():\n",
    "    \"\"\"\n",
    "    Returns a database connection object using the default parameters\n",
    "    specified in the database_credentials file read in at the start of\n",
    "    this notebook.\n",
    "    \"\"\"\n",
    "    return pms.connect(host=db_host, user=db_user, passwd=db_pass, db=db_name);"
   ]
  },
  {
   "cell_type": "markdown",
   "metadata": {},
   "source": [
    "## Shorthand query execution and output\n",
    "The method below accepts a single parameter (expected query), executes the parameter as a SQL query, and outputs the results. The connection is closed before the function terminates."
   ]
  },
  {
   "cell_type": "code",
   "execution_count": 6,
   "metadata": {},
   "outputs": [],
   "source": [
    "def execute_sql_output_result(query_string):\n",
    "    \"\"\"\n",
    "    Given the query_string parameter, this function connects to the database, executes\n",
    "    the query, outputs the result, and closes the connection.\n",
    "    \"\"\"\n",
    "    try:\n",
    "        con = get_connect()\n",
    "        with con.cursor() as cur:\n",
    "            #If the query_string is a single string, execute the string\n",
    "            if type(query_string) == str:\n",
    "                cur.execute(query_string)\n",
    "                result = cur.fetchall()\n",
    "                print(\"=== {} RESULTS ===\".format(len(result)))\n",
    "                #Column names\n",
    "                print(\" \".join([i[0] for i in cur.description]))\n",
    "                #Results\n",
    "                for i in range(len(result)):\n",
    "                    print(\"{}: {}\".format(i, result[i]))\n",
    "    finally:\n",
    "        if con:\n",
    "            con.close()"
   ]
  },
  {
   "cell_type": "markdown",
   "metadata": {},
   "source": [
    "## Single Row Functions (SRFs)\n",
    "Single row functions can be used to perform functions on multiple entries 1 row at a time."
   ]
  },
  {
   "cell_type": "markdown",
   "metadata": {},
   "source": [
    "### CONCAT"
   ]
  },
  {
   "cell_type": "code",
   "execution_count": 7,
   "metadata": {},
   "outputs": [
    {
     "name": "stdout",
     "output_type": "stream",
     "text": [
      "=== 14 RESULTS ===\n",
      "Salary\n",
      "0: ('$800.00',)\n",
      "1: ('$1600.00',)\n",
      "2: ('$1250.00',)\n",
      "3: ('$2975.00',)\n",
      "4: ('$1250.00',)\n",
      "5: ('$2850.00',)\n",
      "6: ('$2450.00',)\n",
      "7: ('$3000.00',)\n",
      "8: ('$5000.00',)\n",
      "9: ('$1500.00',)\n",
      "10: ('$1100.00',)\n",
      "11: ('$950.00',)\n",
      "12: ('$3000.00',)\n",
      "13: ('$1300.00',)\n"
     ]
    }
   ],
   "source": [
    "execute_sql_output_result(\"\"\"\n",
    "    SELECT CONCAT('$', sal) AS Salary FROM emp;\n",
    "\"\"\")"
   ]
  },
  {
   "cell_type": "markdown",
   "metadata": {},
   "source": [
    "### UPPER"
   ]
  },
  {
   "cell_type": "code",
   "execution_count": 8,
   "metadata": {},
   "outputs": [
    {
     "name": "stdout",
     "output_type": "stream",
     "text": [
      "=== 14 RESULTS ===\n",
      "UPPER('hello')\n",
      "0: ('HELLO',)\n",
      "1: ('HELLO',)\n",
      "2: ('HELLO',)\n",
      "3: ('HELLO',)\n",
      "4: ('HELLO',)\n",
      "5: ('HELLO',)\n",
      "6: ('HELLO',)\n",
      "7: ('HELLO',)\n",
      "8: ('HELLO',)\n",
      "9: ('HELLO',)\n",
      "10: ('HELLO',)\n",
      "11: ('HELLO',)\n",
      "12: ('HELLO',)\n",
      "13: ('HELLO',)\n"
     ]
    }
   ],
   "source": [
    "execute_sql_output_result(\"\"\"\n",
    "    SELECT UPPER('hello') FROM emp;\n",
    "\"\"\")"
   ]
  },
  {
   "cell_type": "markdown",
   "metadata": {},
   "source": [
    "### LOWER"
   ]
  },
  {
   "cell_type": "code",
   "execution_count": 9,
   "metadata": {},
   "outputs": [
    {
     "name": "stdout",
     "output_type": "stream",
     "text": [
      "=== 14 RESULTS ===\n",
      "Lowercase Job\n",
      "0: ('clerk',)\n",
      "1: ('salesman',)\n",
      "2: ('salesman',)\n",
      "3: ('manager',)\n",
      "4: ('salesman',)\n",
      "5: ('manager',)\n",
      "6: ('manager',)\n",
      "7: ('analyst',)\n",
      "8: ('president',)\n",
      "9: ('salesman',)\n",
      "10: ('clerk',)\n",
      "11: ('clerk',)\n",
      "12: ('analyst',)\n",
      "13: ('clerk',)\n"
     ]
    }
   ],
   "source": [
    "execute_sql_output_result(\"\"\"\n",
    "    SELECT LOWER(job) AS \"Lowercase Job\" FROM emp\n",
    "\"\"\")"
   ]
  },
  {
   "cell_type": "markdown",
   "metadata": {},
   "source": [
    "## DUAL table\n",
    "The DUAL table can be used to test out SRFs."
   ]
  },
  {
   "cell_type": "code",
   "execution_count": 10,
   "metadata": {},
   "outputs": [
    {
     "name": "stdout",
     "output_type": "stream",
     "text": [
      "=== 1 RESULTS ===\n",
      "UPPER('dog')\n",
      "0: ('DOG',)\n"
     ]
    }
   ],
   "source": [
    "execute_sql_output_result(\"\"\"\n",
    "    SELECT UPPER('dog') FROM dual;\n",
    "\"\"\")"
   ]
  },
  {
   "cell_type": "markdown",
   "metadata": {},
   "source": [
    "## More SRFs\n",
    "Here are some more single row functions."
   ]
  },
  {
   "cell_type": "markdown",
   "metadata": {},
   "source": [
    "### INITCAP\n",
    "`INITCAP` capitalizes the first character in each word."
   ]
  },
  {
   "cell_type": "code",
   "execution_count": 11,
   "metadata": {},
   "outputs": [],
   "source": [
    "sql_syntax = \"\"\"\n",
    "    SELECT INITCAP('dogs go to heaven if they are good dogs') FROM dual;\n",
    "\"\"\"\n",
    "#INITCAP is not available in MySQL\n",
    "#execute_sql_output_result(sql_syntax)"
   ]
  },
  {
   "cell_type": "markdown",
   "metadata": {},
   "source": [
    "### LENGTH\n",
    "`LENGTH` returns the length of a string type value."
   ]
  },
  {
   "cell_type": "code",
   "execution_count": 12,
   "metadata": {},
   "outputs": [
    {
     "name": "stdout",
     "output_type": "stream",
     "text": [
      "=== 1 RESULTS ===\n",
      "Length of 'tigers go roar meow'\n",
      "0: (19,)\n"
     ]
    }
   ],
   "source": [
    "some_string = \"tigers go roar meow\"\n",
    "sql_syntax = \"\"\"\n",
    "    SELECT LENGTH('{}') AS \"Length of '{}'\" FROM dual;\n",
    "\"\"\".format(some_string, some_string)\n",
    "execute_sql_output_result(sql_syntax)"
   ]
  },
  {
   "cell_type": "markdown",
   "metadata": {},
   "source": [
    "### SUBSTR\n",
    "`SUBSTR` extracts a substring from a list of characters. This string is indexed starting from 1, not 0."
   ]
  },
  {
   "cell_type": "code",
   "execution_count": 13,
   "metadata": {
    "scrolled": true
   },
   "outputs": [
    {
     "name": "stdout",
     "output_type": "stream",
     "text": [
      "=== 1 RESULTS ===\n",
      "Substring\n",
      "0: ('s go roar meow',)\n"
     ]
    }
   ],
   "source": [
    "start_index = 6\n",
    "chars_to_extract = 50\n",
    "#Note: SUBSTRING is also acceptable: https://www.w3schools.com/sql/func_mysql_substring.asp\n",
    "sql_syntax = \"\"\"\n",
    "    SELECT SUBSTR('{}', {}, {}) AS \"Substring\" FROM dual;\n",
    "\"\"\".format(some_string, start_index, chars_to_extract)\n",
    "execute_sql_output_result(sql_syntax)"
   ]
  },
  {
   "cell_type": "markdown",
   "metadata": {},
   "source": [
    "### LPAD and RPAD\n",
    "`LPAD` and `RPAD` can be used to pad a string left or right, to a specified length, using a specific padding character."
   ]
  },
  {
   "cell_type": "code",
   "execution_count": 14,
   "metadata": {},
   "outputs": [
    {
     "name": "stdout",
     "output_type": "stream",
     "text": [
      "=== 1 RESULTS ===\n",
      "LPAD('hi', 10, '$') RPAD('hi', 10, '$')\n",
      "0: ('$$$$$$$$hi', 'hi$$$$$$$$')\n"
     ]
    }
   ],
   "source": [
    "length = 10\n",
    "origin_string = \"hi\"\n",
    "pad_char = '$'\n",
    "execute_sql_output_result(\"\"\"\n",
    "    SELECT LPAD('{}', {}, '{}'), RPAD('{}', {}, '{}') FROM dual;\n",
    "\"\"\".format(origin_string, length, pad_char, origin_string, length, pad_char))"
   ]
  },
  {
   "cell_type": "markdown",
   "metadata": {},
   "source": [
    "### LTRIM and RTRIM\n",
    "These methods can be used to trim data off of an character string."
   ]
  },
  {
   "cell_type": "code",
   "execution_count": 15,
   "metadata": {},
   "outputs": [
    {
     "name": "stdout",
     "output_type": "stream",
     "text": [
      "=== 1 RESULTS ===\n",
      "TRIM(LEADING 'a' FROM 'aababaaa') TRIM(TRAILING 'a' FROM 'aababaaa') TRIM(BOTH 'a' FROM 'aababaaa')\n",
      "0: ('babaaa', 'aabab', 'bab')\n"
     ]
    }
   ],
   "source": [
    "origin_string = \"aababaaa\"\n",
    "trim_char = \"a\"\n",
    "sql_syntax = \"\"\"\n",
    "    SELECT LTRIM('{}', '{}'), RTRIM('{}', '{}') AS Trimmed FROM dual;\n",
    "\"\"\".format(origin_string, trim_char, origin_string, trim_char)\n",
    "#LTRIM in MySQL removes leading white space\n",
    "#execute_sql_output_result(sql_syntax)\n",
    "execute_sql_output_result(\"\"\"\n",
    "    SELECT TRIM(LEADING '{}' FROM '{}'), TRIM(TRAILING '{}' FROM '{}'), TRIM(BOTH '{}' FROM '{}')\n",
    "        FROM dual;\n",
    "\"\"\".format(trim_char, origin_string, trim_char, origin_string, trim_char, origin_string))"
   ]
  },
  {
   "cell_type": "markdown",
   "metadata": {},
   "source": [
    "## NUMERIC SRFs\n",
    "### ROUND\n",
    "The round function rounds a numeric to a specified number of decimals."
   ]
  },
  {
   "cell_type": "code",
   "execution_count": 16,
   "metadata": {},
   "outputs": [
    {
     "name": "stdout",
     "output_type": "stream",
     "text": [
      "=== 1 RESULTS ===\n",
      "ROUND(123.456, 2)\n",
      "0: (Decimal('123.46'),)\n",
      "\n",
      "=== 1 RESULTS ===\n",
      "ROUND(123.456, 8)\n",
      "0: (Decimal('123.45600000'),)\n",
      "\n",
      "=== 1 RESULTS ===\n",
      "ROUND(123.456)\n",
      "0: (Decimal('123'),)\n"
     ]
    }
   ],
   "source": [
    "execute_sql_output_result(\"\"\"\n",
    "    SELECT ROUND(123.456, 2) FROM dual;\n",
    "\"\"\")\n",
    "print()\n",
    "execute_sql_output_result(\"\"\"\n",
    "    SELECT ROUND(123.456, 8) FROM dual;\n",
    "\"\"\")\n",
    "print()\n",
    "execute_sql_output_result(\"\"\"\n",
    "    SELECT ROUND(123.456) FROM dual;\n",
    "\"\"\")"
   ]
  },
  {
   "cell_type": "markdown",
   "metadata": {},
   "source": [
    "### TRUNC\n",
    "`TRUNC` provides numeric truncation to a specified number of decimal places (not rounding, just digit removal)."
   ]
  },
  {
   "cell_type": "code",
   "execution_count": 17,
   "metadata": {
    "scrolled": true
   },
   "outputs": [
    {
     "name": "stdout",
     "output_type": "stream",
     "text": [
      "=== 1 RESULTS ===\n",
      "TRUNCATE(123.655273, 0)\n",
      "0: (Decimal('123'),)\n",
      "\n",
      "=== 1 RESULTS ===\n",
      "ROUND(123.655273, 0)\n",
      "0: (Decimal('124'),)\n"
     ]
    }
   ],
   "source": [
    "#Causes error in MySQL\n",
    "sql_syntax = \"\"\"\n",
    "    SELECT TRUNC(123.455273) FROM dual;\n",
    "\"\"\"\n",
    "\n",
    "execute_sql_output_result(\"\"\"\n",
    "    SELECT TRUNCATE(123.655273, 0) FROM dual;\n",
    "\"\"\")\n",
    "print()\n",
    "execute_sql_output_result(\"\"\"\n",
    "    SELECT ROUND(123.655273, 0) FROM dual;\n",
    "\"\"\")"
   ]
  },
  {
   "cell_type": "markdown",
   "metadata": {},
   "source": [
    "## DATE SRFs\n",
    "### SYSDATE\n",
    "`SYSDATE` returns the current date for the installed OS: https://www.w3schools.com/sql/func_mysql_sysdate.asp."
   ]
  },
  {
   "cell_type": "code",
   "execution_count": 18,
   "metadata": {},
   "outputs": [
    {
     "name": "stdout",
     "output_type": "stream",
     "text": [
      "=== 1 RESULTS ===\n",
      "CONCAT('', SYSDATE())\n",
      "0: ('2018-03-24 05:09:25',)\n"
     ]
    }
   ],
   "source": [
    "execute_sql_output_result(\"\"\"\n",
    "    SELECT CONCAT('', SYSDATE()) FROM dual;\n",
    "\"\"\")"
   ]
  },
  {
   "cell_type": "markdown",
   "metadata": {},
   "source": [
    "### ADD_MONTHS (DATE_ADD) and DATE_FORMAT\n",
    "`ADD_MONTHS` allows you to add a specified number of months to a date value. `DATE_FORMAT` allows you to format a date value to a specific style."
   ]
  },
  {
   "cell_type": "code",
   "execution_count": 19,
   "metadata": {},
   "outputs": [
    {
     "name": "stdout",
     "output_type": "stream",
     "text": [
      "=== 1 RESULTS ===\n",
      "DATE_FORMAT(DATE_ADD(CONCAT('', NOW()), INTERVAL -36 MONTH), '%m/%d/%Y')\n",
      "0: ('03/24/2015',)\n"
     ]
    }
   ],
   "source": [
    "execute_sql_output_result(\"\"\"\n",
    "    SELECT DATE_FORMAT(DATE_ADD(CONCAT('', NOW()), INTERVAL -36 MONTH), '%m/%d/%Y') FROM dual;\n",
    "\"\"\")"
   ]
  },
  {
   "cell_type": "markdown",
   "metadata": {},
   "source": [
    "## Even more SRFs\n",
    "### TO_CHAR (DATE_FORMAT)\n",
    "The `TO_CHAR` function can convert a date or number to a string. The equivalent in MySQL is `DATE_FORMAT`."
   ]
  },
  {
   "cell_type": "code",
   "execution_count": 41,
   "metadata": {},
   "outputs": [
    {
     "name": "stdout",
     "output_type": "stream",
     "text": [
      "=== 1 RESULTS ===\n",
      "DATE_FORMAT(NOW(), \"%M %D, %Y\")\n",
      "0: ('March 24th, 2018',)\n",
      "\n",
      "=== 1 RESULTS ===\n",
      "DATE_FORMAT(NOW(), \"%m %d, %Y\")\n",
      "0: ('03 24, 2018',)\n"
     ]
    }
   ],
   "source": [
    "execute_sql_output_result(\"\"\"\n",
    "    SELECT DATE_FORMAT(NOW(), \"%M %D, %Y\") FROM dual;\n",
    "\"\"\")\n",
    "print()\n",
    "execute_sql_output_result(\"\"\"\n",
    "    SELECT DATE_FORMAT(NOW(), \"%m %d, %Y\") FROM dual;\n",
    "\"\"\")"
   ]
  },
  {
   "cell_type": "markdown",
   "metadata": {},
   "source": [
    "### TO_CHAR for numbers"
   ]
  },
  {
   "cell_type": "code",
   "execution_count": 50,
   "metadata": {},
   "outputs": [
    {
     "name": "stdout",
     "output_type": "stream",
     "text": [
      "=== 3 RESULTS ===\n",
      "Employee Name Formatted Salary Salary\n",
      "0: ('SMITH', '$800', '$800.00')\n",
      "1: ('ALLEN', '$1,600', '$1600.00')\n",
      "2: ('WARD', '$1,250', '$1250.00')\n"
     ]
    }
   ],
   "source": [
    "execute_sql_output_result(\"\"\"\n",
    "    SELECT ename AS \"Employee Name\", CONCAT('$', FORMAT(sal, 0)) \"Formatted Salary\", CONCAT('$', sal) AS Salary FROM emp LIMIT 3;\n",
    "\"\"\")"
   ]
  },
  {
   "cell_type": "markdown",
   "metadata": {},
   "source": [
    "## NVL and IFNULL\n",
    "The `NVL` function can be used to replace null-valued columns with filler values. The `IFNULL` function is equivalent in MySQL."
   ]
  },
  {
   "cell_type": "code",
   "execution_count": 55,
   "metadata": {},
   "outputs": [
    {
     "name": "stdout",
     "output_type": "stream",
     "text": [
      "=== 10 RESULTS ===\n",
      "empno ename sal commIFNULL comm\n",
      "0: (7369, 'SMITH', 800.0, 'No data found.', None)\n",
      "1: (7566, 'JONES', 2975.0, 'No data found.', None)\n",
      "2: (7698, 'BLAKE', 2850.0, 'No data found.', None)\n",
      "3: (7782, 'CLARK', 2450.0, 'No data found.', None)\n",
      "4: (7788, 'SCOTT', 3000.0, 'No data found.', None)\n",
      "5: (7839, 'KING', 5000.0, 'No data found.', None)\n",
      "6: (7876, 'ADAMS', 1100.0, 'No data found.', None)\n",
      "7: (7900, 'JAMES', 950.0, 'No data found.', None)\n",
      "8: (7902, 'FORD', 3000.0, 'No data found.', None)\n",
      "9: (7934, 'MILLER', 1300.0, 'No data found.', None)\n"
     ]
    }
   ],
   "source": [
    "execute_sql_output_result(\"\"\"\n",
    "    SELECT empno, ename, sal, IFNULL(comm, 'No data found.') AS commIFNULL, comm FROM emp WHERE comm IS NULL\n",
    "\"\"\")"
   ]
  }
 ],
 "metadata": {
  "kernelspec": {
   "display_name": "Python 3",
   "language": "python",
   "name": "python3"
  },
  "language_info": {
   "codemirror_mode": {
    "name": "ipython",
    "version": 3
   },
   "file_extension": ".py",
   "mimetype": "text/x-python",
   "name": "python",
   "nbconvert_exporter": "python",
   "pygments_lexer": "ipython3",
   "version": "3.5.5"
  }
 },
 "nbformat": 4,
 "nbformat_minor": 2
}
