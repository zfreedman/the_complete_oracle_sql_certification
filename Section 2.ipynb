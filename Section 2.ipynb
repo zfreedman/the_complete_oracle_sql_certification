{
 "cells": [
  {
   "cell_type": "markdown",
   "metadata": {},
   "source": [
    "# Section 1\n",
    "## Read in database credentials\n",
    "Below the credentials for connecting to the database are read into variables by extracting the lines from the local file. The local file is not included in the repo."
   ]
  },
  {
   "cell_type": "code",
   "execution_count": 5,
   "metadata": {},
   "outputs": [],
   "source": [
    "db_name = \"\"\n",
    "db_user = \"\"\n",
    "db_pass = \"\"\n",
    "db_host = \"\"\n",
    "with open(\"database_credentials.txt\") as f:\n",
    "    db_name = f.readline().strip()\n",
    "    db_user = f.readline().strip()\n",
    "    db_pass = f.readline().strip()\n",
    "    db_host = f.readline().strip()"
   ]
  },
  {
   "cell_type": "markdown",
   "metadata": {},
   "source": [
    "## Test connection\n",
    "The next code segment tests to ensure that the database connection is working properly."
   ]
  },
  {
   "cell_type": "code",
   "execution_count": 6,
   "metadata": {},
   "outputs": [],
   "source": [
    "import pymysql as pms"
   ]
  },
  {
   "cell_type": "code",
   "execution_count": 7,
   "metadata": {},
   "outputs": [
    {
     "name": "stdout",
     "output_type": "stream",
     "text": [
      "Successfully connected\n",
      "Closing connection\n"
     ]
    }
   ],
   "source": [
    "try:\n",
    "    con = pms.connect(host=db_host, user=db_user, passwd=db_pass, db=db_name)\n",
    "    print(\"Successfully connected\")\n",
    "finally:\n",
    "    if con:\n",
    "        print(\"Closing connection\")\n",
    "        con.close()"
   ]
  },
  {
   "cell_type": "markdown",
   "metadata": {},
   "source": [
    "## Shorthand connect to database\n",
    "This method will just return a new database connection with the default credentials made available above."
   ]
  },
  {
   "cell_type": "code",
   "execution_count": 8,
   "metadata": {},
   "outputs": [],
   "source": [
    "def get_connect():\n",
    "    \"\"\"\n",
    "    Returns a database connection object using the default parameters\n",
    "    specified in the database_credentials file read in at the start of\n",
    "    this notebook.\n",
    "    \"\"\"\n",
    "    return pms.connect(host=db_host, user=db_user, passwd=db_pass, db=db_name);"
   ]
  },
  {
   "cell_type": "markdown",
   "metadata": {},
   "source": [
    "## WHERE with column relations\n",
    "The **WHERE** clause can be used to specify column value requirements. However, although `WHERE sal <= 2000` and `WHERE ename = 'BILL'` are valid, variable selection like `WHERE comm < sal` is also valid."
   ]
  },
  {
   "cell_type": "code",
   "execution_count": 9,
   "metadata": {},
   "outputs": [
    {
     "name": "stdout",
     "output_type": "stream",
     "text": [
      "(7499, 'ALLEN', 'SALESMAN', 7698, datetime.date(1981, 2, 20), 1600.0, 300.0, 30)\n",
      "(7521, 'WARD', 'SALESMAN', 7698, datetime.date(1981, 2, 22), 1250.0, 500.0, 30)\n",
      "(7844, 'TURNER', 'SALESMAN', 7698, datetime.date(1981, 9, 8), 1500.0, 0.0, 30)\n"
     ]
    }
   ],
   "source": [
    "try:\n",
    "    con = get_connect()\n",
    "    cur = con.cursor()\n",
    "    \n",
    "    sql = \"\"\"\n",
    "        SELECT * FROM emp WHERE comm < sal;\n",
    "    \"\"\"\n",
    "    cur.execute(sql)\n",
    "    for row in cur.fetchall():\n",
    "        print(row)\n",
    "finally:\n",
    "    if con:\n",
    "        con.close()"
   ]
  },
  {
   "cell_type": "markdown",
   "metadata": {},
   "source": [
    "## Multiple AND operators within a WHERE clause\n",
    "`AND` operators can be used to perform more complex `WHERE` queries."
   ]
  },
  {
   "cell_type": "code",
   "execution_count": 10,
   "metadata": {},
   "outputs": [
    {
     "name": "stdout",
     "output_type": "stream",
     "text": [
      "(7788, 'SCOTT', 'ANALYST', 7566, datetime.date(1981, 12, 9), 3000.0, None, 20)\n",
      "(7902, 'FORD', 'ANALYST', 7566, datetime.date(1981, 12, 3), 3000.0, None, 20)\n"
     ]
    }
   ],
   "source": [
    "try:\n",
    "    con = get_connect()\n",
    "    cur = con.cursor()\n",
    "    sql = \"\"\"\n",
    "        SELECT * FROM emp WHERE\n",
    "            job != 'MANAGER' AND\n",
    "            sal > 2500 AND\n",
    "            deptno = 20\n",
    "    \"\"\"\n",
    "    cur.execute(sql)\n",
    "    for row in cur.fetchall():\n",
    "        print(row)\n",
    "finally:\n",
    "    if con:\n",
    "        con.close()"
   ]
  },
  {
   "cell_type": "markdown",
   "metadata": {},
   "source": [
    "**Note**: It is best practice to query like `sal > 2500` as opposed to `2500 < sal`."
   ]
  },
  {
   "cell_type": "markdown",
   "metadata": {},
   "source": [
    "## Shorthand query execution and output\n",
    "The method below accepts a single parameter (expected query), executes the parameter as a SQL query, and outputs the results. The connection is closed before the function terminates."
   ]
  },
  {
   "cell_type": "code",
   "execution_count": 11,
   "metadata": {},
   "outputs": [
    {
     "data": {
      "text/plain": [
       "True"
      ]
     },
     "execution_count": 11,
     "metadata": {},
     "output_type": "execute_result"
    }
   ],
   "source": [
    "type(\"abc\") == str"
   ]
  },
  {
   "cell_type": "code",
   "execution_count": 31,
   "metadata": {},
   "outputs": [],
   "source": [
    "def execute_sql_output_result(query_string):\n",
    "    \"\"\"\n",
    "    Given the query_string parameter, this function connects to the database, executes\n",
    "    the query, outputs the result, and closes the connection.\n",
    "    \"\"\"\n",
    "    try:\n",
    "        con = get_connect()\n",
    "        with con.cursor() as cur:\n",
    "            #If the query_string is a single string, execute the string\n",
    "            if type(query_string) == str:\n",
    "                cur.execute(query_string)\n",
    "                result = cur.fetchall()\n",
    "                print(\"=== {} RESULTS ===\".format(len(result)))\n",
    "                #Column names\n",
    "                print(\" \".join([i[0] for i in cur.description]))\n",
    "                #Results\n",
    "                for i in range(len(result)):\n",
    "                    print(\"{}: {}\".format(i, result[i]))\n",
    "    finally:\n",
    "        if con:\n",
    "            con.close()"
   ]
  },
  {
   "cell_type": "markdown",
   "metadata": {},
   "source": [
    "## OR clause\n",
    "The `OR` clause can be used to aggregate rows corresponding to multiple values for a single column."
   ]
  },
  {
   "cell_type": "code",
   "execution_count": 13,
   "metadata": {},
   "outputs": [
    {
     "name": "stdout",
     "output_type": "stream",
     "text": [
      "=== 8 RESULTS ===\n",
      "0: (7369, 'SMITH', 'CLERK', 7902, datetime.date(1980, 12, 17), 800.0, None, 20)\n",
      "1: (7499, 'ALLEN', 'SALESMAN', 7698, datetime.date(1981, 2, 20), 1600.0, 300.0, 30)\n",
      "2: (7521, 'WARD', 'SALESMAN', 7698, datetime.date(1981, 2, 22), 1250.0, 500.0, 30)\n",
      "3: (7654, 'MARTIN', 'SALESMAN', 7698, datetime.date(1981, 9, 28), 1250.0, 1400.0, 30)\n",
      "4: (7844, 'TURNER', 'SALESMAN', 7698, datetime.date(1981, 9, 8), 1500.0, 0.0, 30)\n",
      "5: (7876, 'ADAMS', 'CLERK', 7788, datetime.date(1983, 1, 12), 1100.0, None, 20)\n",
      "6: (7900, 'JAMES', 'CLERK', 7698, datetime.date(1981, 12, 3), 950.0, None, 30)\n",
      "7: (7934, 'MILLER', 'CLERK', 7782, datetime.date(1982, 1, 23), 1300.0, None, 10)\n"
     ]
    }
   ],
   "source": [
    "execute_sql_output_result(\"\"\"\n",
    "    SELECT * FROM emp WHERE\n",
    "        job='CLERK' OR\n",
    "        job='SALESMAN'\n",
    "\"\"\")"
   ]
  },
  {
   "cell_type": "markdown",
   "metadata": {},
   "source": [
    "## IN clause\n",
    "The `IN` clause can be used to query if a value belongs in a set of predefined values, similar to a multiple `OR`."
   ]
  },
  {
   "cell_type": "code",
   "execution_count": 14,
   "metadata": {},
   "outputs": [
    {
     "name": "stdout",
     "output_type": "stream",
     "text": [
      "=== 11 RESULTS ===\n",
      "0: ('SMITH', datetime.date(1980, 12, 17), 20)\n",
      "1: ('ALLEN', datetime.date(1981, 2, 20), 30)\n",
      "2: ('WARD', datetime.date(1981, 2, 22), 30)\n",
      "3: ('JONES', datetime.date(1981, 4, 2), 20)\n",
      "4: ('MARTIN', datetime.date(1981, 9, 28), 30)\n",
      "5: ('BLAKE', datetime.date(1981, 5, 1), 30)\n",
      "6: ('SCOTT', datetime.date(1981, 12, 9), 20)\n",
      "7: ('TURNER', datetime.date(1981, 9, 8), 30)\n",
      "8: ('ADAMS', datetime.date(1983, 1, 12), 20)\n",
      "9: ('JAMES', datetime.date(1981, 12, 3), 30)\n",
      "10: ('FORD', datetime.date(1981, 12, 3), 20)\n"
     ]
    }
   ],
   "source": [
    "execute_sql_output_result(\"\"\"\n",
    "    SELECT ename,hiredate,deptno FROM emp WHERE\n",
    "        deptno IN (20, 30)\n",
    "\"\"\")"
   ]
  },
  {
   "cell_type": "markdown",
   "metadata": {},
   "source": [
    "## NOT clause\n",
    "`NOT` can be used in conjunction with `IN` to get the compliment of the result."
   ]
  },
  {
   "cell_type": "code",
   "execution_count": 15,
   "metadata": {},
   "outputs": [
    {
     "name": "stdout",
     "output_type": "stream",
     "text": [
      "=== 3 RESULTS ===\n",
      "0: ('CLARK', datetime.date(1981, 6, 9), 10)\n",
      "1: ('KING', datetime.date(1981, 11, 17), 10)\n",
      "2: ('MILLER', datetime.date(1982, 1, 23), 10)\n"
     ]
    }
   ],
   "source": [
    "execute_sql_output_result(\"\"\"\n",
    "    SELECT ename,hiredate,deptno FROM emp WHERE\n",
    "        deptno NOT IN (20, 30)\n",
    "\"\"\")"
   ]
  },
  {
   "cell_type": "markdown",
   "metadata": {},
   "source": [
    "## BETWEEN clause\n",
    "`BETWEEN` can be used similarly to `IN` to specify a set of values. However, `BETWEEN` specifies a range of values."
   ]
  },
  {
   "cell_type": "code",
   "execution_count": 16,
   "metadata": {},
   "outputs": [
    {
     "name": "stdout",
     "output_type": "stream",
     "text": [
      "=== 9 RESULTS ===\n",
      "0: (7654, 'MARTIN', 'SALESMAN', 7698, datetime.date(1981, 9, 28), 1250.0, 1400.0, 30)\n",
      "1: (7698, 'BLAKE', 'MANAGER', 7839, datetime.date(1981, 5, 1), 2850.0, None, 30)\n",
      "2: (7782, 'CLARK', 'MANAGER', 7839, datetime.date(1981, 6, 9), 2450.0, None, 10)\n",
      "3: (7788, 'SCOTT', 'ANALYST', 7566, datetime.date(1981, 12, 9), 3000.0, None, 20)\n",
      "4: (7839, 'KING', 'PRESIDENT', None, datetime.date(1981, 11, 17), 5000.0, None, 10)\n",
      "5: (7844, 'TURNER', 'SALESMAN', 7698, datetime.date(1981, 9, 8), 1500.0, 0.0, 30)\n",
      "6: (7900, 'JAMES', 'CLERK', 7698, datetime.date(1981, 12, 3), 950.0, None, 30)\n",
      "7: (7902, 'FORD', 'ANALYST', 7566, datetime.date(1981, 12, 3), 3000.0, None, 20)\n",
      "8: (7934, 'MILLER', 'CLERK', 7782, datetime.date(1982, 1, 23), 1300.0, None, 10)\n"
     ]
    }
   ],
   "source": [
    "execute_sql_output_result(\"\"\"\n",
    "    SELECT * FROM emp WHERE\n",
    "        hiredate BETWEEN '1981-05-01' AND '1982-12-09'\n",
    "\"\"\")"
   ]
  },
  {
   "cell_type": "markdown",
   "metadata": {},
   "source": [
    "## Complimenting the BETWEEN query using NOT\n",
    "`NOT` can also be used to negate the range specified using `BETWEEN`."
   ]
  },
  {
   "cell_type": "code",
   "execution_count": 17,
   "metadata": {},
   "outputs": [
    {
     "name": "stdout",
     "output_type": "stream",
     "text": [
      "=== 7 RESULTS ===\n",
      "0: (7499, 'ALLEN', 'SALESMAN', 7698, datetime.date(1981, 2, 20), 1600.0, 300.0, 30)\n",
      "1: (7521, 'WARD', 'SALESMAN', 7698, datetime.date(1981, 2, 22), 1250.0, 500.0, 30)\n",
      "2: (7654, 'MARTIN', 'SALESMAN', 7698, datetime.date(1981, 9, 28), 1250.0, 1400.0, 30)\n",
      "3: (7844, 'TURNER', 'SALESMAN', 7698, datetime.date(1981, 9, 8), 1500.0, 0.0, 30)\n",
      "4: (7876, 'ADAMS', 'CLERK', 7788, datetime.date(1983, 1, 12), 1100.0, None, 20)\n",
      "5: (7900, 'JAMES', 'CLERK', 7698, datetime.date(1981, 12, 3), 950.0, None, 30)\n",
      "6: (7934, 'MILLER', 'CLERK', 7782, datetime.date(1982, 1, 23), 1300.0, None, 10)\n",
      "\n",
      "=== 7 RESULTS ===\n",
      "0: (7369, 'SMITH', 'CLERK', 7902, datetime.date(1980, 12, 17), 800.0, None, 20)\n",
      "1: (7566, 'JONES', 'MANAGER', 7839, datetime.date(1981, 4, 2), 2975.0, None, 20)\n",
      "2: (7698, 'BLAKE', 'MANAGER', 7839, datetime.date(1981, 5, 1), 2850.0, None, 30)\n",
      "3: (7782, 'CLARK', 'MANAGER', 7839, datetime.date(1981, 6, 9), 2450.0, None, 10)\n",
      "4: (7788, 'SCOTT', 'ANALYST', 7566, datetime.date(1981, 12, 9), 3000.0, None, 20)\n",
      "5: (7839, 'KING', 'PRESIDENT', None, datetime.date(1981, 11, 17), 5000.0, None, 10)\n",
      "6: (7902, 'FORD', 'ANALYST', 7566, datetime.date(1981, 12, 3), 3000.0, None, 20)\n"
     ]
    }
   ],
   "source": [
    "execute_sql_output_result(\"\"\"\n",
    "    SELECT * FROM emp WHERE\n",
    "        sal BETWEEN 950  AND 1600\n",
    "\"\"\")\n",
    "print()\n",
    "execute_sql_output_result(\"\"\"\n",
    "    SELECT * FROM emp WHERE\n",
    "        sal NOT BETWEEN 950  AND 1600\n",
    "\"\"\")"
   ]
  },
  {
   "cell_type": "markdown",
   "metadata": {},
   "source": [
    "## IS NULL\n",
    "Missing data values can be detected by specifying IS NULLS as a selector. Notice how in the below query result, the second to last column is None for all rows, confirming that the specified column (comm/commission) has not been valued."
   ]
  },
  {
   "cell_type": "code",
   "execution_count": 18,
   "metadata": {},
   "outputs": [
    {
     "name": "stdout",
     "output_type": "stream",
     "text": [
      "=== 10 RESULTS ===\n",
      "0: (7369, 'SMITH', 'CLERK', 7902, datetime.date(1980, 12, 17), 800.0, None, 20)\n",
      "1: (7566, 'JONES', 'MANAGER', 7839, datetime.date(1981, 4, 2), 2975.0, None, 20)\n",
      "2: (7698, 'BLAKE', 'MANAGER', 7839, datetime.date(1981, 5, 1), 2850.0, None, 30)\n",
      "3: (7782, 'CLARK', 'MANAGER', 7839, datetime.date(1981, 6, 9), 2450.0, None, 10)\n",
      "4: (7788, 'SCOTT', 'ANALYST', 7566, datetime.date(1981, 12, 9), 3000.0, None, 20)\n",
      "5: (7839, 'KING', 'PRESIDENT', None, datetime.date(1981, 11, 17), 5000.0, None, 10)\n",
      "6: (7876, 'ADAMS', 'CLERK', 7788, datetime.date(1983, 1, 12), 1100.0, None, 20)\n",
      "7: (7900, 'JAMES', 'CLERK', 7698, datetime.date(1981, 12, 3), 950.0, None, 30)\n",
      "8: (7902, 'FORD', 'ANALYST', 7566, datetime.date(1981, 12, 3), 3000.0, None, 20)\n",
      "9: (7934, 'MILLER', 'CLERK', 7782, datetime.date(1982, 1, 23), 1300.0, None, 10)\n"
     ]
    }
   ],
   "source": [
    "execute_sql_output_result(\"\"\"\n",
    "    SELECT * FROM emp WHERE\n",
    "        comm IS NULL;\n",
    "\"\"\")"
   ]
  },
  {
   "cell_type": "markdown",
   "metadata": {},
   "source": [
    "Additionally, `NOT NULL` is also a valid selector."
   ]
  },
  {
   "cell_type": "code",
   "execution_count": 19,
   "metadata": {},
   "outputs": [
    {
     "name": "stdout",
     "output_type": "stream",
     "text": [
      "=== 4 RESULTS ===\n",
      "0: (7499, 'ALLEN', 'SALESMAN', 7698, datetime.date(1981, 2, 20), 1600.0, 300.0, 30)\n",
      "1: (7521, 'WARD', 'SALESMAN', 7698, datetime.date(1981, 2, 22), 1250.0, 500.0, 30)\n",
      "2: (7654, 'MARTIN', 'SALESMAN', 7698, datetime.date(1981, 9, 28), 1250.0, 1400.0, 30)\n",
      "3: (7844, 'TURNER', 'SALESMAN', 7698, datetime.date(1981, 9, 8), 1500.0, 0.0, 30)\n"
     ]
    }
   ],
   "source": [
    "execute_sql_output_result(\"\"\"\n",
    "    SELECT * FROM emp WHERE\n",
    "        comm IS NOT NULL;\n",
    "\"\"\")"
   ]
  },
  {
   "cell_type": "markdown",
   "metadata": {},
   "source": [
    "## ( ) with boolean logic\n",
    "Parentheses can be used to force precedence of evaluation."
   ]
  },
  {
   "cell_type": "code",
   "execution_count": 47,
   "metadata": {
    "scrolled": true
   },
   "outputs": [
    {
     "name": "stdout",
     "output_type": "stream",
     "text": [
      "=== 5 RESULTS ===\n",
      "empno ename job mgr hiredate sal comm deptno\n",
      "0: (7566, 'JONES', 'MANAGER', 7839, datetime.date(1981, 4, 2), 2975.0, None, 20)\n",
      "1: (7698, 'BLAKE', 'MANAGER', 7839, datetime.date(1981, 5, 1), 2850.0, None, 30)\n",
      "2: (7782, 'CLARK', 'MANAGER', 7839, datetime.date(1981, 6, 9), 2450.0, None, 10)\n",
      "3: (7844, 'TURNER', 'SALESMAN', 7698, datetime.date(1981, 9, 8), 1500.0, 0.0, 30)\n",
      "4: (7934, 'MILLER', 'CLERK', 7782, datetime.date(1982, 1, 23), 1300.0, None, 10)\n"
     ]
    }
   ],
   "source": [
    "execute_sql_output_result(\"\"\"\n",
    "    SELECT * FROM emp WHERE\n",
    "        (comm IS NULL OR comm = 0) AND\n",
    "        sal > 1100 AND\n",
    "        sal < 5000 AND\n",
    "        sal != 3000;\n",
    "\"\"\")"
   ]
  },
  {
   "cell_type": "markdown",
   "metadata": {},
   "source": [
    "## LIKE operator and % (wildcard) matching\n",
    "`LIKE` can be used for regex mapping on data in conjunction with the wildcard operator, `%`."
   ]
  },
  {
   "cell_type": "code",
   "execution_count": 48,
   "metadata": {},
   "outputs": [
    {
     "name": "stdout",
     "output_type": "stream",
     "text": [
      "=== 4 RESULTS ===\n",
      "empno ename job mgr hiredate sal comm deptno\n",
      "0: (7369, 'SMITH', 'CLERK', 7902, datetime.date(1980, 12, 17), 800.0, None, 20)\n",
      "1: (7876, 'ADAMS', 'CLERK', 7788, datetime.date(1983, 1, 12), 1100.0, None, 20)\n",
      "2: (7900, 'JAMES', 'CLERK', 7698, datetime.date(1981, 12, 3), 950.0, None, 30)\n",
      "3: (7934, 'MILLER', 'CLERK', 7782, datetime.date(1982, 1, 23), 1300.0, None, 10)\n",
      "=== 3 RESULTS ===\n",
      "empno ename job mgr hiredate sal comm deptno\n",
      "0: (7566, 'JONES', 'MANAGER', 7839, datetime.date(1981, 4, 2), 2975.0, None, 20)\n",
      "1: (7698, 'BLAKE', 'MANAGER', 7839, datetime.date(1981, 5, 1), 2850.0, None, 30)\n",
      "2: (7782, 'CLARK', 'MANAGER', 7839, datetime.date(1981, 6, 9), 2450.0, None, 10)\n"
     ]
    }
   ],
   "source": [
    "execute_sql_output_result(\"\"\"\n",
    "    SELECT * FROM emp WHERE\n",
    "        job LIKE '%RK';\n",
    "\"\"\")\n",
    "\n",
    "execute_sql_output_result(\"\"\"\n",
    "    SELECT * FROM emp WHERE\n",
    "        job LIKE 'MANA%';\n",
    "\"\"\")"
   ]
  },
  {
   "cell_type": "markdown",
   "metadata": {},
   "source": [
    "## Aliases\n",
    "Aliases can be used to make the results returned from a query more meaningful. To follow the SQL standard, `AS` should be used to reference the alias, although it is not technically required."
   ]
  },
  {
   "cell_type": "code",
   "execution_count": 68,
   "metadata": {
    "scrolled": true
   },
   "outputs": [
    {
     "name": "stdout",
     "output_type": "stream",
     "text": [
      "=== 14 RESULTS ===\n",
      "ename sal comm\n",
      "0: ('SMITH', 800.0, None)\n",
      "1: ('ALLEN', 1600.0, 300.0)\n",
      "2: ('WARD', 1250.0, 500.0)\n",
      "3: ('JONES', 2975.0, None)\n",
      "4: ('MARTIN', 1250.0, 1400.0)\n",
      "5: ('BLAKE', 2850.0, None)\n",
      "6: ('CLARK', 2450.0, None)\n",
      "7: ('SCOTT', 3000.0, None)\n",
      "8: ('KING', 5000.0, None)\n",
      "9: ('TURNER', 1500.0, 0.0)\n",
      "10: ('ADAMS', 1100.0, None)\n",
      "11: ('JAMES', 950.0, None)\n",
      "12: ('FORD', 3000.0, None)\n",
      "13: ('MILLER', 1300.0, None)\n",
      "\n",
      "=== 14 RESULTS ===\n",
      "Employee name Salary Commision\n",
      "0: ('SMITH', 800.0, None)\n",
      "1: ('ALLEN', 1600.0, 300.0)\n",
      "2: ('WARD', 1250.0, 500.0)\n",
      "3: ('JONES', 2975.0, None)\n",
      "4: ('MARTIN', 1250.0, 1400.0)\n",
      "5: ('BLAKE', 2850.0, None)\n",
      "6: ('CLARK', 2450.0, None)\n",
      "7: ('SCOTT', 3000.0, None)\n",
      "8: ('KING', 5000.0, None)\n",
      "9: ('TURNER', 1500.0, 0.0)\n",
      "10: ('ADAMS', 1100.0, None)\n",
      "11: ('JAMES', 950.0, None)\n",
      "12: ('FORD', 3000.0, None)\n",
      "13: ('MILLER', 1300.0, None)\n"
     ]
    }
   ],
   "source": [
    "execute_sql_output_result(\"\"\"\n",
    "    SELECT ename, sal, comm FROM emp;\n",
    "\"\"\")\n",
    "print()\n",
    "execute_sql_output_result(\"\"\"\n",
    "    SELECT ename AS \"Employee name\", sal AS Salary, comm AS Commision FROM emp;\n",
    "\"\"\")"
   ]
  },
  {
   "cell_type": "markdown",
   "metadata": {},
   "source": [
    "## Concatenation\n",
    "Concatenation can be used to make query results appear to a specific format (perhaps more legible)."
   ]
  },
  {
   "cell_type": "code",
   "execution_count": 50,
   "metadata": {},
   "outputs": [
    {
     "name": "stdout",
     "output_type": "stream",
     "text": [
      "=== 3 RESULTS ===\n",
      "CONCAT('Hello, my name is ', ename)\n",
      "0: ('Hello, my name is JONES',)\n",
      "1: ('Hello, my name is BLAKE',)\n",
      "2: ('Hello, my name is CLARK',)\n"
     ]
    }
   ],
   "source": [
    "sql_syntax = \"\"\"\n",
    "    SELECT 'Hello, my name is ' || ename\n",
    "        FROM emp WHERE\n",
    "            job = 'MANAGER';\n",
    "\"\"\"\n",
    "#execute_sql_output_result(sql_syntax)\n",
    "\n",
    "mysql_syntax = \"\"\"\n",
    "    SELECT CONCAT('Hello, my name is ', ename)\n",
    "        FROM emp WHERE\n",
    "            job = 'MANAGER';\n",
    "\"\"\"\n",
    "execute_sql_output_result(mysql_syntax)"
   ]
  },
  {
   "cell_type": "markdown",
   "metadata": {},
   "source": [
    "### Concatenation aliases"
   ]
  },
  {
   "cell_type": "code",
   "execution_count": 51,
   "metadata": {},
   "outputs": [
    {
     "name": "stdout",
     "output_type": "stream",
     "text": [
      "=== 3 RESULTS ===\n",
      "Greeting\n",
      "0: ('Hello, my name is JONES',)\n",
      "1: ('Hello, my name is BLAKE',)\n",
      "2: ('Hello, my name is CLARK',)\n"
     ]
    }
   ],
   "source": [
    "execute_sql_output_result(\"\"\"\n",
    "    SELECT CONCAT('Hello, my name is ', ename) AS Greeting\n",
    "        FROM emp WHERE\n",
    "            job = 'MANAGER';\n",
    "\"\"\")"
   ]
  },
  {
   "cell_type": "markdown",
   "metadata": {},
   "source": [
    "## ORDER BY\n",
    "`ORDER BY` allows query results to be sorted."
   ]
  },
  {
   "cell_type": "code",
   "execution_count": 58,
   "metadata": {},
   "outputs": [
    {
     "name": "stdout",
     "output_type": "stream",
     "text": [
      "=== 14 RESULTS ===\n",
      "Monthly Salary\n",
      "0: ('SMITH makes $800.00 per month',)\n",
      "1: ('JAMES makes $950.00 per month',)\n",
      "2: ('ADAMS makes $1100.00 per month',)\n",
      "3: ('WARD makes $1250.00 per month',)\n",
      "4: ('MARTIN makes $1250.00 per month',)\n",
      "5: ('MILLER makes $1300.00 per month',)\n",
      "6: ('TURNER makes $1500.00 per month',)\n",
      "7: ('ALLEN makes $1600.00 per month',)\n",
      "8: ('CLARK makes $2450.00 per month',)\n",
      "9: ('BLAKE makes $2850.00 per month',)\n",
      "10: ('JONES makes $2975.00 per month',)\n",
      "11: ('SCOTT makes $3000.00 per month',)\n",
      "12: ('FORD makes $3000.00 per month',)\n",
      "13: ('KING makes $5000.00 per month',)\n"
     ]
    }
   ],
   "source": [
    "execute_sql_output_result(\"\"\"\n",
    "    SELECT CONCAT(ename, \" makes $\", sal, \" per month\") AS \"Monthly Salary\"\n",
    "        FROM emp ORDER BY sal;\n",
    "\"\"\")"
   ]
  },
  {
   "cell_type": "markdown",
   "metadata": {},
   "source": [
    "### DESC and ASC\n",
    "Specifying `DESC` or `ASC` forces the `ORDER BY` statement to order results in descending or ascending order, respectively. By default, `ASC` can be omitted and return the default (ascending) order."
   ]
  },
  {
   "cell_type": "code",
   "execution_count": 61,
   "metadata": {},
   "outputs": [
    {
     "name": "stdout",
     "output_type": "stream",
     "text": [
      "=== 14 RESULTS ===\n",
      "Monthly Salary\n",
      "0: ('KING makes $5000.00 per month',)\n",
      "1: ('SCOTT makes $3000.00 per month',)\n",
      "2: ('FORD makes $3000.00 per month',)\n",
      "3: ('JONES makes $2975.00 per month',)\n",
      "4: ('BLAKE makes $2850.00 per month',)\n",
      "5: ('CLARK makes $2450.00 per month',)\n",
      "6: ('ALLEN makes $1600.00 per month',)\n",
      "7: ('TURNER makes $1500.00 per month',)\n",
      "8: ('MILLER makes $1300.00 per month',)\n",
      "9: ('WARD makes $1250.00 per month',)\n",
      "10: ('MARTIN makes $1250.00 per month',)\n",
      "11: ('ADAMS makes $1100.00 per month',)\n",
      "12: ('JAMES makes $950.00 per month',)\n",
      "13: ('SMITH makes $800.00 per month',)\n"
     ]
    }
   ],
   "source": [
    "execute_sql_output_result(\"\"\"\n",
    "    SELECT CONCAT(ename, \" makes $\", sal, \" per month\") AS \"Monthly Salary\"\n",
    "        FROM emp ORDER BY sal DESC;\n",
    "\"\"\")"
   ]
  },
  {
   "cell_type": "markdown",
   "metadata": {},
   "source": [
    "### Multiple sorting\n",
    "Results can be sorted by multiple columns."
   ]
  },
  {
   "cell_type": "code",
   "execution_count": 67,
   "metadata": {
    "scrolled": true
   },
   "outputs": [
    {
     "name": "stdout",
     "output_type": "stream",
     "text": [
      "=== 14 RESULTS ===\n",
      "deptno sal ename\n",
      "0: (10, 1300.0, 'MILLER')\n",
      "1: (10, 2450.0, 'CLARK')\n",
      "2: (10, 5000.0, 'KING')\n",
      "3: (20, 800.0, 'SMITH')\n",
      "4: (20, 1100.0, 'ADAMS')\n",
      "5: (20, 2975.0, 'JONES')\n",
      "6: (20, 3000.0, 'SCOTT')\n",
      "7: (20, 3000.0, 'FORD')\n",
      "8: (30, 950.0, 'JAMES')\n",
      "9: (30, 1250.0, 'WARD')\n",
      "10: (30, 1250.0, 'MARTIN')\n",
      "11: (30, 1500.0, 'TURNER')\n",
      "12: (30, 1600.0, 'ALLEN')\n",
      "13: (30, 2850.0, 'BLAKE')\n",
      "\n",
      "=== 14 RESULTS ===\n",
      "deptno sal ename\n",
      "0: (10, 1300.0, 'MILLER')\n",
      "1: (10, 2450.0, 'CLARK')\n",
      "2: (10, 5000.0, 'KING')\n",
      "3: (20, 800.0, 'SMITH')\n",
      "4: (20, 1100.0, 'ADAMS')\n",
      "5: (20, 2975.0, 'JONES')\n",
      "6: (20, 3000.0, 'FORD')\n",
      "7: (20, 3000.0, 'SCOTT')\n",
      "8: (30, 950.0, 'JAMES')\n",
      "9: (30, 1250.0, 'MARTIN')\n",
      "10: (30, 1250.0, 'WARD')\n",
      "11: (30, 1500.0, 'TURNER')\n",
      "12: (30, 1600.0, 'ALLEN')\n",
      "13: (30, 2850.0, 'BLAKE')\n"
     ]
    }
   ],
   "source": [
    "execute_sql_output_result(\"\"\"\n",
    "    SELECT deptno, sal, ename\n",
    "        FROM emp\n",
    "        ORDER BY deptno, sal\n",
    "\"\"\")\n",
    "print()\n",
    "execute_sql_output_result(\"\"\"\n",
    "    SELECT deptno, sal, ename\n",
    "        FROM emp\n",
    "        ORDER BY deptno, sal, ename\n",
    "\"\"\")"
   ]
  }
 ],
 "metadata": {
  "kernelspec": {
   "display_name": "Python 3",
   "language": "python",
   "name": "python3"
  },
  "language_info": {
   "codemirror_mode": {
    "name": "ipython",
    "version": 3
   },
   "file_extension": ".py",
   "mimetype": "text/x-python",
   "name": "python",
   "nbconvert_exporter": "python",
   "pygments_lexer": "ipython3",
   "version": "3.5.5"
  }
 },
 "nbformat": 4,
 "nbformat_minor": 2
}
