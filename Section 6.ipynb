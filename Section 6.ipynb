{
 "cells": [
  {
   "cell_type": "markdown",
   "metadata": {},
   "source": [
    "# Section 3\n",
    "## Read in database credentials\n",
    "Below the credentials for connecting to the database are read into variables by extracting the lines from the local file. The local file is not included in the repo."
   ]
  },
  {
   "cell_type": "code",
   "execution_count": 360,
   "metadata": {
    "collapsed": true
   },
   "outputs": [],
   "source": [
    "db_name = \"\"\n",
    "db_user = \"\"\n",
    "db_pass = \"\"\n",
    "db_host = \"\"\n",
    "with open(\"database_credentials.txt\") as f:\n",
    "    db_name = f.readline().strip()\n",
    "    db_user = f.readline().strip()\n",
    "    db_pass = f.readline().strip()\n",
    "    db_host = f.readline().strip()"
   ]
  },
  {
   "cell_type": "markdown",
   "metadata": {},
   "source": [
    "## Shorthand connect to database\n",
    "This method will just return a new database connection with the default credentials made available above."
   ]
  },
  {
   "cell_type": "code",
   "execution_count": 361,
   "metadata": {
    "collapsed": true
   },
   "outputs": [],
   "source": [
    "import pymysql as pms"
   ]
  },
  {
   "cell_type": "code",
   "execution_count": 362,
   "metadata": {
    "collapsed": true
   },
   "outputs": [],
   "source": [
    "def get_connect():\n",
    "    \"\"\"\n",
    "    Returns a database connection object using the default parameters\n",
    "    specified in the database_credentials file read in at the start of\n",
    "    this notebook.\n",
    "    \"\"\"\n",
    "    return pms.connect(host=db_host, user=db_user, passwd=db_pass, db=db_name);"
   ]
  },
  {
   "cell_type": "markdown",
   "metadata": {},
   "source": [
    "## Test connection\n",
    "The next code segment tests to ensure that the database connection is working properly."
   ]
  },
  {
   "cell_type": "code",
   "execution_count": 363,
   "metadata": {},
   "outputs": [
    {
     "name": "stdout",
     "output_type": "stream",
     "text": [
      "Successfully connected\n",
      "Closing connection\n"
     ]
    }
   ],
   "source": [
    "try:\n",
    "    con = get_connect()\n",
    "    print(\"Successfully connected\")\n",
    "finally:\n",
    "    if con:\n",
    "        print(\"Closing connection\")\n",
    "        con.close()"
   ]
  },
  {
   "cell_type": "code",
   "execution_count": 364,
   "metadata": {
    "collapsed": true
   },
   "outputs": [],
   "source": [
    "def get_connect():\n",
    "    \"\"\"\n",
    "    Returns a database connection object using the default parameters\n",
    "    specified in the database_credentials file read in at the start of\n",
    "    this notebook.\n",
    "    \"\"\"\n",
    "    return pms.connect(host=db_host, user=db_user, passwd=db_pass, db=db_name);"
   ]
  },
  {
   "cell_type": "markdown",
   "metadata": {},
   "source": [
    "## Shorthand query execution and output\n",
    "The method below accepts a single parameter (expected query), executes the parameter as a SQL query, and outputs the results. The connection is closed before the function terminates."
   ]
  },
  {
   "cell_type": "code",
   "execution_count": 365,
   "metadata": {
    "collapsed": true
   },
   "outputs": [],
   "source": [
    "def execute_sql_output_result(query_string, is_query=True):\n",
    "    \"\"\"\n",
    "    Given the query_string parameter, this function connects to the database, executes\n",
    "    the query, outputs the result, and closes the connection.\n",
    "    \"\"\"\n",
    "    try:\n",
    "        con = get_connect()\n",
    "        with con.cursor() as cur:\n",
    "            #If the query_string is a single string, execute the string\n",
    "            if type(query_string) == str:\n",
    "                cur.execute(query_string)\n",
    "                #Only output query results if this is a query\n",
    "                if is_query:\n",
    "                    result = cur.fetchall()\n",
    "                    print(\"=== {} RESULTS ===\".format(len(result)))\n",
    "                    #Column names\n",
    "                    print(\" \".join([i[0] for i in cur.description]))\n",
    "                    #Results\n",
    "                    for i in range(len(result)):\n",
    "                        print(\"{}: {}\".format(i, result[i]))\n",
    "                    print()\n",
    "    finally:\n",
    "        if con:\n",
    "            con.close()"
   ]
  },
  {
   "cell_type": "markdown",
   "metadata": {},
   "source": [
    "## Shorthand statement execution (INSERT, CREATE, DROP)"
   ]
  },
  {
   "cell_type": "code",
   "execution_count": 366,
   "metadata": {
    "collapsed": true
   },
   "outputs": [],
   "source": [
    "def execute_sql_statement(statement):\n",
    "    \"\"\"\n",
    "    Given the query_string parameter, this function connects to the database, executes\n",
    "    the insertion, and closes the connection.\n",
    "    \"\"\"\n",
    "    try:\n",
    "        con = get_connect()\n",
    "        with con.cursor() as cur:\n",
    "            con.autocommit(True)\n",
    "            #If the query_string is a single string, execute the string\n",
    "            if type(statement) == str:\n",
    "                cur.execute(statement)\n",
    "    finally:\n",
    "        if con:\n",
    "            con.close()"
   ]
  },
  {
   "cell_type": "markdown",
   "metadata": {},
   "source": [
    "## TABLE creation"
   ]
  },
  {
   "cell_type": "code",
   "execution_count": 367,
   "metadata": {},
   "outputs": [],
   "source": [
    "execute_sql_statement(\"\"\"\n",
    "    CREATE TABLE IF NOT EXISTS stores (\n",
    "        store_id INT NOT NULL,\n",
    "        city VARCHAR(50)\n",
    "    );\n",
    "\"\"\")"
   ]
  },
  {
   "cell_type": "markdown",
   "metadata": {},
   "source": [
    "## Inserting data"
   ]
  },
  {
   "cell_type": "code",
   "execution_count": 368,
   "metadata": {},
   "outputs": [],
   "source": [
    "#Individual insert\n",
    "execute_sql_statement(\"\"\"\n",
    "    INSERT INTO stores(store_id, city) VALUES (1, 'San Francisco');\n",
    "    INSERT INTO stores(store_id, city) VALUES (2, 'New York');\n",
    "    INSERT INTO stores(store_id, city) VALUES (3, 'CHICAGO');\n",
    "\"\"\")\n",
    "execute_sql_statement(\"\"\"\n",
    "    INSERT INTO stores(store_id, city) VALUES\n",
    "        (4, 'Philadelphia'),\n",
    "        (5, 'Boston'),\n",
    "        (6, 'Seattle');\n",
    "\"\"\")"
   ]
  },
  {
   "cell_type": "code",
   "execution_count": 369,
   "metadata": {},
   "outputs": [
    {
     "name": "stdout",
     "output_type": "stream",
     "text": [
      "=== 6 RESULTS ===\n",
      "store_id city\n",
      "0: (1, 'San Francisco')\n",
      "1: (2, 'New York')\n",
      "2: (3, 'CHICAGO')\n",
      "3: (4, 'Philadelphia')\n",
      "4: (5, 'Boston')\n",
      "5: (6, 'Seattle')\n",
      "\n"
     ]
    }
   ],
   "source": [
    "execute_sql_output_result(\"\"\"\n",
    "    SELECT * FROM stores;\n",
    "\"\"\")"
   ]
  },
  {
   "cell_type": "markdown",
   "metadata": {},
   "source": [
    "## PRIMARY KEY\n",
    "A primary key ensures uniqueness in a table."
   ]
  },
  {
   "cell_type": "code",
   "execution_count": 370,
   "metadata": {
    "scrolled": true
   },
   "outputs": [],
   "source": [
    "execute_sql_statement(\"\"\"\n",
    "    CREATE TABLE IF NOT EXISTS products (\n",
    "        product_id INT NOT NULL,\n",
    "        name VARCHAR(50),\n",
    "        product_cost FLOAT(5,2),\n",
    "        product_retail FLOAT(5,2),\n",
    "        product_type VARCHAR(10),\n",
    "        store_id INT NOT NULL,\n",
    "        PRIMARY KEY (product_id)\n",
    "    );\n",
    "    INSERT INTO products (product_id, name, product_cost, product_retail, product_type, store_id) VALUES\n",
    "        (1001, 'Colgate Toothpaste', 2.25, 5.47, 'hygiene', 2),\n",
    "        (1002, 'Colgate Toothpaste', 2.25, 5.47, 'hygiene', 2),\n",
    "        (1003, 'Listerine Mouthwash', 1.75, 4.81, 'hygiene', 3),\n",
    "        (1011, 'Listerine Sweatpants', 4.00, 8.00, 'Clothing', 4);\n",
    "\"\"\")"
   ]
  },
  {
   "cell_type": "code",
   "execution_count": 371,
   "metadata": {},
   "outputs": [
    {
     "name": "stdout",
     "output_type": "stream",
     "text": [
      "=== 4 RESULTS ===\n",
      "product_id name product_cost product_retail product_type store_id\n",
      "0: (1001, 'Colgate Toothpaste', 2.25, 5.47, 'hygiene', 2)\n",
      "1: (1002, 'Colgate Toothpaste', 2.25, 5.47, 'hygiene', 2)\n",
      "2: (1003, 'Listerine Mouthwash', 1.75, 4.81, 'hygiene', 3)\n",
      "3: (1011, 'Listerine Sweatpants', 4.0, 8.0, 'Clothing', 4)\n",
      "\n"
     ]
    }
   ],
   "source": [
    "execute_sql_output_result(\"\"\"\n",
    "    SELECT * FROM products;\n",
    "\"\"\")"
   ]
  },
  {
   "cell_type": "markdown",
   "metadata": {},
   "source": [
    "## Modifying the structure of a table using ALTER"
   ]
  },
  {
   "cell_type": "code",
   "execution_count": 372,
   "metadata": {},
   "outputs": [],
   "source": [
    "execute_sql_statement(\"\"\"\n",
    "    ALTER TABLE products\n",
    "        MODIFY name VARCHAR(50) NOT NULL,\n",
    "        MODIFY product_retail FLOAT(5,2) NOT NULL;\n",
    "\"\"\")"
   ]
  },
  {
   "cell_type": "markdown",
   "metadata": {},
   "source": [
    "## Renaming a column"
   ]
  },
  {
   "cell_type": "code",
   "execution_count": 373,
   "metadata": {},
   "outputs": [],
   "source": [
    "execute_sql_statement(\"\"\"\n",
    "    ALTER TABLE products\n",
    "        CHANGE COLUMN name product_name VARCHAR(50) NOT NULL;\n",
    "\"\"\")"
   ]
  },
  {
   "cell_type": "markdown",
   "metadata": {},
   "source": [
    "## Creating another table from a SELECT"
   ]
  },
  {
   "cell_type": "code",
   "execution_count": 374,
   "metadata": {},
   "outputs": [],
   "source": [
    "execute_sql_statement(\"\"\"\n",
    "    CREATE TABLE employees AS\n",
    "        SELECT empno, ename, job, hiredate, sal, comm\n",
    "    FROM emp;\n",
    "\"\"\")"
   ]
  },
  {
   "cell_type": "markdown",
   "metadata": {},
   "source": [
    "## ADD"
   ]
  },
  {
   "cell_type": "code",
   "execution_count": 375,
   "metadata": {},
   "outputs": [],
   "source": [
    "execute_sql_statement(\"\"\"\n",
    "    ALTER TABLE employees\n",
    "        ADD store_id INT;\n",
    "\"\"\")"
   ]
  },
  {
   "cell_type": "markdown",
   "metadata": {},
   "source": [
    "## UPDATE"
   ]
  },
  {
   "cell_type": "code",
   "execution_count": 376,
   "metadata": {},
   "outputs": [],
   "source": [
    "execute_sql_statement(\"\"\"\n",
    "    UPDATE employees\n",
    "        SET store_id = 3 WHERE\n",
    "            ename IN ('KING', 'BLAKE', 'CLARK');\n",
    "    UPDATE employees\n",
    "        SET store_id = 2 WHERE\n",
    "            job = 'SALESMAN';\n",
    "    UPDATE employees\n",
    "        SET store_id = 4 WHERE\n",
    "            job IN ('CLERK', 'ANALYST');\n",
    "    UPDATE employees\n",
    "        SET store_id = 1 WHERE\n",
    "            job = 'MANAGER';\n",
    "    ALTER TABLE employees\n",
    "        MODIFY store_id INT NOT NULL;\n",
    "\"\"\")"
   ]
  },
  {
   "cell_type": "markdown",
   "metadata": {},
   "source": [
    "## Dropping tables"
   ]
  },
  {
   "cell_type": "code",
   "execution_count": 359,
   "metadata": {
    "collapsed": true
   },
   "outputs": [],
   "source": [
    "execute_sql_statement(\"\"\"\n",
    "    DROP TABLE IF EXISTS stores;\n",
    "    DROP TABLE IF EXISTS products;\n",
    "    DROP TABLE IF EXISTS employees;\n",
    "\"\"\")"
   ]
  }
 ],
 "metadata": {
  "kernelspec": {
   "display_name": "Python 3",
   "language": "python",
   "name": "python3"
  },
  "language_info": {
   "codemirror_mode": {
    "name": "ipython",
    "version": 3
   },
   "file_extension": ".py",
   "mimetype": "text/x-python",
   "name": "python",
   "nbconvert_exporter": "python",
   "pygments_lexer": "ipython3",
   "version": "3.5.4"
  }
 },
 "nbformat": 4,
 "nbformat_minor": 2
}
