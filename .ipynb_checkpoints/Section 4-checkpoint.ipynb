{
 "cells": [
  {
   "cell_type": "markdown",
   "metadata": {},
   "source": [
    "# Section 3\n",
    "## Read in database credentials\n",
    "Below the credentials for connecting to the database are read into variables by extracting the lines from the local file. The local file is not included in the repo."
   ]
  },
  {
   "cell_type": "code",
   "execution_count": 2,
   "metadata": {
    "collapsed": true
   },
   "outputs": [],
   "source": [
    "db_name = \"\"\n",
    "db_user = \"\"\n",
    "db_pass = \"\"\n",
    "db_host = \"\"\n",
    "with open(\"database_credentials.txt\") as f:\n",
    "    db_name = f.readline().strip()\n",
    "    db_user = f.readline().strip()\n",
    "    db_pass = f.readline().strip()\n",
    "    db_host = f.readline().strip()"
   ]
  },
  {
   "cell_type": "markdown",
   "metadata": {},
   "source": [
    "## Shorthand connect to database\n",
    "This method will just return a new database connection with the default credentials made available above."
   ]
  },
  {
   "cell_type": "code",
   "execution_count": 3,
   "metadata": {
    "collapsed": true
   },
   "outputs": [],
   "source": [
    "import pymysql as pms"
   ]
  },
  {
   "cell_type": "code",
   "execution_count": 4,
   "metadata": {
    "collapsed": true
   },
   "outputs": [],
   "source": [
    "def get_connect():\n",
    "    \"\"\"\n",
    "    Returns a database connection object using the default parameters\n",
    "    specified in the database_credentials file read in at the start of\n",
    "    this notebook.\n",
    "    \"\"\"\n",
    "    return pms.connect(host=db_host, user=db_user, passwd=db_pass, db=db_name);"
   ]
  },
  {
   "cell_type": "markdown",
   "metadata": {},
   "source": [
    "## Test connection\n",
    "The next code segment tests to ensure that the database connection is working properly."
   ]
  },
  {
   "cell_type": "code",
   "execution_count": 5,
   "metadata": {},
   "outputs": [
    {
     "name": "stdout",
     "output_type": "stream",
     "text": [
      "Successfully connected\n",
      "Closing connection\n"
     ]
    }
   ],
   "source": [
    "try:\n",
    "    con = get_connect()\n",
    "    print(\"Successfully connected\")\n",
    "finally:\n",
    "    if con:\n",
    "        print(\"Closing connection\")\n",
    "        con.close()"
   ]
  },
  {
   "cell_type": "code",
   "execution_count": 6,
   "metadata": {
    "collapsed": true
   },
   "outputs": [],
   "source": [
    "def get_connect():\n",
    "    \"\"\"\n",
    "    Returns a database connection object using the default parameters\n",
    "    specified in the database_credentials file read in at the start of\n",
    "    this notebook.\n",
    "    \"\"\"\n",
    "    return pms.connect(host=db_host, user=db_user, passwd=db_pass, db=db_name);"
   ]
  },
  {
   "cell_type": "markdown",
   "metadata": {},
   "source": [
    "## Shorthand query execution and output\n",
    "The method below accepts a single parameter (expected query), executes the parameter as a SQL query, and outputs the results. The connection is closed before the function terminates."
   ]
  },
  {
   "cell_type": "code",
   "execution_count": 12,
   "metadata": {
    "collapsed": true
   },
   "outputs": [],
   "source": [
    "def execute_sql_output_result(query_string):\n",
    "    \"\"\"\n",
    "    Given the query_string parameter, this function connects to the database, executes\n",
    "    the query, outputs the result, and closes the connection.\n",
    "    \"\"\"\n",
    "    try:\n",
    "        con = get_connect()\n",
    "        with con.cursor() as cur:\n",
    "            #If the query_string is a single string, execute the string\n",
    "            if type(query_string) == str:\n",
    "                cur.execute(query_string)\n",
    "                result = cur.fetchall()\n",
    "                print(\"=== {} RESULTS ===\".format(len(result)))\n",
    "                #Column names\n",
    "                print(\" \".join([i[0] for i in cur.description]))\n",
    "                #Results\n",
    "                for i in range(len(result)):\n",
    "                    print(\"{}: {}\".format(i, result[i]))\n",
    "                print()\n",
    "    finally:\n",
    "        if con:\n",
    "            con.close()"
   ]
  },
  {
   "cell_type": "markdown",
   "metadata": {},
   "source": [
    "## Group functions\n",
    "A group function operates on several rows and returns a single result.\n",
    "### MAX, MIN, and SUM"
   ]
  },
  {
   "cell_type": "code",
   "execution_count": 14,
   "metadata": {},
   "outputs": [
    {
     "name": "stdout",
     "output_type": "stream",
     "text": [
      "=== 1 RESULTS ===\n",
      "MaxSal MinSal SumSal\n",
      "0: (5000.0, 800.0, 29025.0)\n",
      "\n",
      "=== 1 RESULTS ===\n",
      "MaxManagerSal\n",
      "0: (2975.0,)\n",
      "\n"
     ]
    }
   ],
   "source": [
    "execute_sql_output_result(\"\"\"\n",
    "    SELECT MAX(sal) AS MaxSal, MIN(sal) AS MinSal, SUM(sal) AS SumSal FROM EMP;\n",
    "\"\"\")\n",
    "execute_sql_output_result(\"\"\"\n",
    "    SELECT MAX(sal) AS MaxManagerSal FROM emp WHERE job='MANAGER';\n",
    "\"\"\")"
   ]
  },
  {
   "cell_type": "markdown",
   "metadata": {},
   "source": [
    "### COUNT"
   ]
  },
  {
   "cell_type": "code",
   "execution_count": 16,
   "metadata": {},
   "outputs": [
    {
     "name": "stdout",
     "output_type": "stream",
     "text": [
      "=== 1 RESULTS ===\n",
      "EmployeeCount EmployeesWithCommission\n",
      "0: (14, 4)\n",
      "\n"
     ]
    }
   ],
   "source": [
    "execute_sql_output_result(\"\"\"\n",
    "    SELECT COUNT(ename) AS EmployeeCount, COUNT(comm) AS EmployeesWithCommissionb FROM emp;\n",
    "\"\"\")"
   ]
  },
  {
   "cell_type": "markdown",
   "metadata": {},
   "source": [
    "### Averaging values"
   ]
  },
  {
   "cell_type": "code",
   "execution_count": 22,
   "metadata": {},
   "outputs": [
    {
     "name": "stdout",
     "output_type": "stream",
     "text": [
      "=== 1 RESULTS ===\n",
      "AverageSalary AverageNativeSalary\n",
      "0: ('$2,073.21', '$2,073.21')\n",
      "\n"
     ]
    }
   ],
   "source": [
    "execute_sql_output_result(\"\"\"\n",
    "    SELECT CONCAT('$', FORMAT(SUM(sal) / COUNT(sal), 2)) AS AverageSalary,\n",
    "        CONCAT('$', FORMAT(AVG(sal), 2)) AS AverageNativeSalary FROM emp;\n",
    "\"\"\")"
   ]
  },
  {
   "cell_type": "markdown",
   "metadata": {},
   "source": [
    "## GROUP BY and HAVING clauses\n",
    "The `GROUP BY` clause allows you to perform multi row function computation on a distinct value basis."
   ]
  },
  {
   "cell_type": "code",
   "execution_count": 26,
   "metadata": {},
   "outputs": [
    {
     "name": "stdout",
     "output_type": "stream",
     "text": [
      "=== 5 RESULTS ===\n",
      "job AVG(sal)\n",
      "0: ('ANALYST', 3000.0)\n",
      "1: ('CLERK', 1037.5)\n",
      "2: ('MANAGER', 2758.333333)\n",
      "3: ('PRESIDENT', 5000.0)\n",
      "4: ('SALESMAN', 1400.0)\n",
      "\n",
      "=== 5 RESULTS ===\n",
      "job min(sal)\n",
      "0: ('ANALYST', 3000.0)\n",
      "1: ('CLERK', 800.0)\n",
      "2: ('MANAGER', 2450.0)\n",
      "3: ('PRESIDENT', 5000.0)\n",
      "4: ('SALESMAN', 1250.0)\n",
      "\n"
     ]
    }
   ],
   "source": [
    "execute_sql_output_result(\"\"\"\n",
    "    SELECT job, AVG(sal) FROM emp GROUP BY job\n",
    "\"\"\")\n",
    "\n",
    "execute_sql_output_result(\"\"\"\n",
    "    SELECT job, min(sal) FROM emp GROUP BY job\n",
    "\"\"\")"
   ]
  },
  {
   "cell_type": "markdown",
   "metadata": {},
   "source": [
    "### HAVING\n",
    "`HAVING` can be used to specify a certain criteria in conjunction with `GROUP BY`."
   ]
  },
  {
   "cell_type": "code",
   "execution_count": 37,
   "metadata": {},
   "outputs": [
    {
     "name": "stdout",
     "output_type": "stream",
     "text": [
      "=== 2 RESULTS ===\n",
      "job AVG(sal)\n",
      "0: ('SALESMAN', 1400.0)\n",
      "1: ('CLERK', 1037.5)\n",
      "\n",
      "=== 2 RESULTS ===\n",
      "deptno\n",
      "0: (20,)\n",
      "1: (30,)\n",
      "\n"
     ]
    }
   ],
   "source": [
    "execute_sql_output_result(\"\"\"\n",
    "    SELECT job, AVG(sal) FROM emp GROUP BY job HAVING count(*) = 4 ORDER BY job DESC;\n",
    "\"\"\")\n",
    "\n",
    "execute_sql_output_result(\"\"\"\n",
    "    SELECT deptno FROM emp GROUP BY deptno HAVING count(*) > 3;\n",
    "\"\"\")"
   ]
  }
 ],
 "metadata": {
  "kernelspec": {
   "display_name": "Python 3",
   "language": "python",
   "name": "python3"
  },
  "language_info": {
   "codemirror_mode": {
    "name": "ipython",
    "version": 3
   },
   "file_extension": ".py",
   "mimetype": "text/x-python",
   "name": "python",
   "nbconvert_exporter": "python",
   "pygments_lexer": "ipython3",
   "version": "3.5.4"
  }
 },
 "nbformat": 4,
 "nbformat_minor": 2
}
