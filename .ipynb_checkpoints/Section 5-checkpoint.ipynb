{
 "cells": [
  {
   "cell_type": "markdown",
   "metadata": {},
   "source": [
    "# Section 3\n",
    "## Read in database credentials\n",
    "Below the credentials for connecting to the database are read into variables by extracting the lines from the local file. The local file is not included in the repo."
   ]
  },
  {
   "cell_type": "code",
   "execution_count": 57,
   "metadata": {
    "collapsed": true
   },
   "outputs": [],
   "source": [
    "db_name = \"\"\n",
    "db_user = \"\"\n",
    "db_pass = \"\"\n",
    "db_host = \"\"\n",
    "with open(\"database_credentials.txt\") as f:\n",
    "    db_name = f.readline().strip()\n",
    "    db_user = f.readline().strip()\n",
    "    db_pass = f.readline().strip()\n",
    "    db_host = f.readline().strip()"
   ]
  },
  {
   "cell_type": "markdown",
   "metadata": {},
   "source": [
    "## Shorthand connect to database\n",
    "This method will just return a new database connection with the default credentials made available above."
   ]
  },
  {
   "cell_type": "code",
   "execution_count": 58,
   "metadata": {
    "collapsed": true
   },
   "outputs": [],
   "source": [
    "import pymysql as pms"
   ]
  },
  {
   "cell_type": "code",
   "execution_count": 59,
   "metadata": {
    "collapsed": true
   },
   "outputs": [],
   "source": [
    "def get_connect():\n",
    "    \"\"\"\n",
    "    Returns a database connection object using the default parameters\n",
    "    specified in the database_credentials file read in at the start of\n",
    "    this notebook.\n",
    "    \"\"\"\n",
    "    return pms.connect(host=db_host, user=db_user, passwd=db_pass, db=db_name);"
   ]
  },
  {
   "cell_type": "markdown",
   "metadata": {},
   "source": [
    "## Test connection\n",
    "The next code segment tests to ensure that the database connection is working properly."
   ]
  },
  {
   "cell_type": "code",
   "execution_count": 60,
   "metadata": {},
   "outputs": [
    {
     "name": "stdout",
     "output_type": "stream",
     "text": [
      "Successfully connected\n",
      "Closing connection\n"
     ]
    }
   ],
   "source": [
    "try:\n",
    "    con = get_connect()\n",
    "    print(\"Successfully connected\")\n",
    "finally:\n",
    "    if con:\n",
    "        print(\"Closing connection\")\n",
    "        con.close()"
   ]
  },
  {
   "cell_type": "code",
   "execution_count": 61,
   "metadata": {
    "collapsed": true
   },
   "outputs": [],
   "source": [
    "def get_connect():\n",
    "    \"\"\"\n",
    "    Returns a database connection object using the default parameters\n",
    "    specified in the database_credentials file read in at the start of\n",
    "    this notebook.\n",
    "    \"\"\"\n",
    "    return pms.connect(host=db_host, user=db_user, passwd=db_pass, db=db_name);"
   ]
  },
  {
   "cell_type": "markdown",
   "metadata": {},
   "source": [
    "## Shorthand query execution and output\n",
    "The method below accepts a single parameter (expected query), executes the parameter as a SQL query, and outputs the results. The connection is closed before the function terminates."
   ]
  },
  {
   "cell_type": "code",
   "execution_count": 62,
   "metadata": {
    "collapsed": true
   },
   "outputs": [],
   "source": [
    "def execute_sql_output_result(query_string):\n",
    "    \"\"\"\n",
    "    Given the query_string parameter, this function connects to the database, executes\n",
    "    the query, outputs the result, and closes the connection.\n",
    "    \"\"\"\n",
    "    try:\n",
    "        con = get_connect()\n",
    "        with con.cursor() as cur:\n",
    "            #If the query_string is a single string, execute the string\n",
    "            if type(query_string) == str:\n",
    "                cur.execute(query_string)\n",
    "                result = cur.fetchall()\n",
    "                print(\"=== {} RESULTS ===\".format(len(result)))\n",
    "                #Column names\n",
    "                print(\" \".join([i[0] for i in cur.description]))\n",
    "                #Results\n",
    "                for i in range(len(result)):\n",
    "                    print(\"{}: {}\".format(i, result[i]))\n",
    "                print()\n",
    "    finally:\n",
    "        if con:\n",
    "            con.close()"
   ]
  },
  {
   "cell_type": "markdown",
   "metadata": {},
   "source": [
    "## Subqueries\n",
    "`SELECT` statements can be made within `SELECT` statements, which nests a query within another query."
   ]
  },
  {
   "cell_type": "code",
   "execution_count": 63,
   "metadata": {},
   "outputs": [
    {
     "name": "stdout",
     "output_type": "stream",
     "text": [
      "=== 1 RESULTS ===\n",
      "deptno dname loc\n",
      "0: (30, 'SALES', 'CHICAGO')\n",
      "\n",
      "=== 1 RESULTS ===\n",
      "deptno dname loc\n",
      "0: (10, 'ACCOUNTING', 'NEW YORK')\n",
      "\n"
     ]
    }
   ],
   "source": [
    "execute_sql_output_result(\"\"\"\n",
    "    SELECT * FROM dept WHERE\n",
    "        deptno = (SELECT deptno FROM dept WHERE deptno = 30);\n",
    "\"\"\")\n",
    "execute_sql_output_result(\"\"\"\n",
    "    SELECT * FROM dept WHERE\n",
    "        deptno < (SELECT deptno FROM dept WHERE deptno = 30)\n",
    "        AND dname = 'ACCOUNTING';\n",
    "\"\"\")"
   ]
  },
  {
   "cell_type": "markdown",
   "metadata": {},
   "source": [
    "## JOIN\n",
    "It's often a common necessity to link data from 2 table togehter to attain a filtered result."
   ]
  },
  {
   "cell_type": "code",
   "execution_count": 64,
   "metadata": {},
   "outputs": [
    {
     "name": "stdout",
     "output_type": "stream",
     "text": [
      "=== 1 RESULTS ===\n",
      "deptno dname loc\n",
      "0: (30, 'SALES', 'CHICAGO')\n",
      "\n",
      "=== 6 RESULTS ===\n",
      "empno ename job mgr hiredate sal comm deptno\n",
      "0: (7499, 'ALLEN', 'SALESMAN', 7698, datetime.date(1981, 2, 20), 1600.0, 300.0, 30)\n",
      "1: (7521, 'WARD', 'SALESMAN', 7698, datetime.date(1981, 2, 22), 1250.0, 500.0, 30)\n",
      "2: (7654, 'MARTIN', 'SALESMAN', 7698, datetime.date(1981, 9, 28), 1250.0, 1400.0, 30)\n",
      "3: (7698, 'BLAKE', 'MANAGER', 7839, datetime.date(1981, 5, 1), 2850.0, None, 30)\n",
      "4: (7844, 'TURNER', 'SALESMAN', 7698, datetime.date(1981, 9, 8), 1500.0, 0.0, 30)\n",
      "5: (7900, 'JAMES', 'CLERK', 7698, datetime.date(1981, 12, 3), 950.0, None, 30)\n",
      "\n"
     ]
    }
   ],
   "source": [
    "execute_sql_output_result(\"\"\"\n",
    "    SELECT * FROM dept WHERE loc = 'CHICAGO';\n",
    "\"\"\")\n",
    "\n",
    "execute_sql_output_result(\"\"\"\n",
    "    SELECT * FROM emp WHERE\n",
    "        deptno = (SELECT deptno FROM dept WHERE loc = 'CHICAGO');\n",
    "\"\"\")"
   ]
  },
  {
   "cell_type": "markdown",
   "metadata": {},
   "source": [
    "`JOIN` can be used to do this more easily than with subqueries. Notice how both of the below tables have a *deptno* attribute."
   ]
  },
  {
   "cell_type": "code",
   "execution_count": 65,
   "metadata": {},
   "outputs": [
    {
     "name": "stdout",
     "output_type": "stream",
     "text": [
      "=== 1 RESULTS ===\n",
      "empno ename job mgr hiredate sal comm deptno\n",
      "0: (7369, 'SMITH', 'CLERK', 7902, datetime.date(1980, 12, 17), 800.0, None, 20)\n",
      "\n",
      "=== 4 RESULTS ===\n",
      "deptno dname loc\n",
      "0: (10, 'ACCOUNTING', 'NEW YORK')\n",
      "1: (20, 'RESEARCH', 'DALLAS')\n",
      "2: (30, 'SALES', 'CHICAGO')\n",
      "3: (40, 'OPERATIONS', 'BOSTON')\n",
      "\n"
     ]
    }
   ],
   "source": [
    "execute_sql_output_result(\"\"\"\n",
    "    SELECT * FROM emp LIMIT 1;\n",
    "\"\"\")\n",
    "\n",
    "execute_sql_output_result(\"\"\"\n",
    "    SELECT * FROM dept;\n",
    "\"\"\")  "
   ]
  },
  {
   "cell_type": "markdown",
   "metadata": {},
   "source": [
    "The dot notation can be used to join 2 tables together by a specific column value."
   ]
  },
  {
   "cell_type": "code",
   "execution_count": 66,
   "metadata": {
    "scrolled": false
   },
   "outputs": [
    {
     "name": "stdout",
     "output_type": "stream",
     "text": [
      "=== 14 RESULTS ===\n",
      "empno ename job mgr hiredate sal comm deptno deptno dname loc\n",
      "0: (7782, 'CLARK', 'MANAGER', 7839, datetime.date(1981, 6, 9), 2450.0, None, 10, 10, 'ACCOUNTING', 'NEW YORK')\n",
      "1: (7839, 'KING', 'PRESIDENT', None, datetime.date(1981, 11, 17), 5000.0, None, 10, 10, 'ACCOUNTING', 'NEW YORK')\n",
      "2: (7934, 'MILLER', 'CLERK', 7782, datetime.date(1982, 1, 23), 1300.0, None, 10, 10, 'ACCOUNTING', 'NEW YORK')\n",
      "3: (7369, 'SMITH', 'CLERK', 7902, datetime.date(1980, 12, 17), 800.0, None, 20, 20, 'RESEARCH', 'DALLAS')\n",
      "4: (7566, 'JONES', 'MANAGER', 7839, datetime.date(1981, 4, 2), 2975.0, None, 20, 20, 'RESEARCH', 'DALLAS')\n",
      "5: (7788, 'SCOTT', 'ANALYST', 7566, datetime.date(1981, 12, 9), 3000.0, None, 20, 20, 'RESEARCH', 'DALLAS')\n",
      "6: (7876, 'ADAMS', 'CLERK', 7788, datetime.date(1983, 1, 12), 1100.0, None, 20, 20, 'RESEARCH', 'DALLAS')\n",
      "7: (7902, 'FORD', 'ANALYST', 7566, datetime.date(1981, 12, 3), 3000.0, None, 20, 20, 'RESEARCH', 'DALLAS')\n",
      "8: (7499, 'ALLEN', 'SALESMAN', 7698, datetime.date(1981, 2, 20), 1600.0, 300.0, 30, 30, 'SALES', 'CHICAGO')\n",
      "9: (7521, 'WARD', 'SALESMAN', 7698, datetime.date(1981, 2, 22), 1250.0, 500.0, 30, 30, 'SALES', 'CHICAGO')\n",
      "10: (7654, 'MARTIN', 'SALESMAN', 7698, datetime.date(1981, 9, 28), 1250.0, 1400.0, 30, 30, 'SALES', 'CHICAGO')\n",
      "11: (7698, 'BLAKE', 'MANAGER', 7839, datetime.date(1981, 5, 1), 2850.0, None, 30, 30, 'SALES', 'CHICAGO')\n",
      "12: (7844, 'TURNER', 'SALESMAN', 7698, datetime.date(1981, 9, 8), 1500.0, 0.0, 30, 30, 'SALES', 'CHICAGO')\n",
      "13: (7900, 'JAMES', 'CLERK', 7698, datetime.date(1981, 12, 3), 950.0, None, 30, 30, 'SALES', 'CHICAGO')\n",
      "\n"
     ]
    }
   ],
   "source": [
    "execute_sql_output_result(\"\"\"\n",
    "    SELECT * FROM emp, dept WHERE\n",
    "        emp.deptno = dept.deptno;\n",
    "\"\"\")"
   ]
  },
  {
   "cell_type": "markdown",
   "metadata": {},
   "source": [
    "**NOTE**: In the below query, the prefix specified with the **.** can be omitted if the column name is unique to only 1 of the tables being used. The difference is shown by using both `emp.ename` and just `job` without the prefix `emp.` (both are valid, the prefix is more specific). However, for a column value like *deptno* that exists in both tables MUST be specified with a prefix."
   ]
  },
  {
   "cell_type": "code",
   "execution_count": 67,
   "metadata": {},
   "outputs": [
    {
     "name": "stdout",
     "output_type": "stream",
     "text": [
      "=== 5 RESULTS ===\n",
      "Name Job Salary\n",
      "0: ('SMITH', 'CLERK', 800.0)\n",
      "1: ('JONES', 'MANAGER', 2975.0)\n",
      "2: ('SCOTT', 'ANALYST', 3000.0)\n",
      "3: ('ADAMS', 'CLERK', 1100.0)\n",
      "4: ('FORD', 'ANALYST', 3000.0)\n",
      "\n"
     ]
    }
   ],
   "source": [
    "execute_sql_output_result(\"\"\"\n",
    "    SELECT emp.ename AS Name, job Job, sal Salary FROM emp, dept WHERE\n",
    "        emp.deptno = dept.deptno AND \n",
    "        loc = 'DALLAS';\n",
    "\"\"\")"
   ]
  },
  {
   "cell_type": "markdown",
   "metadata": {},
   "source": [
    "### Table aliases\n",
    "The query above is identical to the one below. The only difference is that now the tables are being given aliases. However, note that when an alias to a table is given, ALL `table.` prefixes must be updated to `prefix.`."
   ]
  },
  {
   "cell_type": "code",
   "execution_count": 68,
   "metadata": {},
   "outputs": [
    {
     "name": "stdout",
     "output_type": "stream",
     "text": [
      "=== 5 RESULTS ===\n",
      "Name Job Salary\n",
      "0: ('SMITH', 'CLERK', 800.0)\n",
      "1: ('JONES', 'MANAGER', 2975.0)\n",
      "2: ('SCOTT', 'ANALYST', 3000.0)\n",
      "3: ('ADAMS', 'CLERK', 1100.0)\n",
      "4: ('FORD', 'ANALYST', 3000.0)\n",
      "\n"
     ]
    }
   ],
   "source": [
    "execute_sql_output_result(\"\"\"\n",
    "    SELECT ename AS Name, job Job, sal Salary FROM emp e, dept d WHERE\n",
    "        e.deptno = d.deptno AND \n",
    "        loc = 'DALLAS'\n",
    "\"\"\")"
   ]
  },
  {
   "cell_type": "markdown",
   "metadata": {},
   "source": [
    "### Replacing tables with subqueries\n",
    "Subqueries can actually replace their underlying tables. The above and below queries are, in terms of results, identical."
   ]
  },
  {
   "cell_type": "code",
   "execution_count": 69,
   "metadata": {},
   "outputs": [
    {
     "name": "stdout",
     "output_type": "stream",
     "text": [
      "=== 5 RESULTS ===\n",
      "Name Job Salary\n",
      "0: ('SMITH', 'CLERK', 800.0)\n",
      "1: ('JONES', 'MANAGER', 2975.0)\n",
      "2: ('SCOTT', 'ANALYST', 3000.0)\n",
      "3: ('ADAMS', 'CLERK', 1100.0)\n",
      "4: ('FORD', 'ANALYST', 3000.0)\n",
      "\n"
     ]
    }
   ],
   "source": [
    "execute_sql_output_result(\"\"\"\n",
    "    SELECT ename AS Name, job Job, sal Salary FROM (SELECT * FROM emp) e, dept d WHERE\n",
    "        e.deptno = d.deptno AND \n",
    "        loc = 'DALLAS';\n",
    "\"\"\")"
   ]
  },
  {
   "cell_type": "markdown",
   "metadata": {},
   "source": [
    "To find only the employees who are managers and clerks working in Dallas, the below query can be made."
   ]
  },
  {
   "cell_type": "code",
   "execution_count": 70,
   "metadata": {},
   "outputs": [
    {
     "name": "stdout",
     "output_type": "stream",
     "text": [
      "=== 3 RESULTS ===\n",
      "ename job sal\n",
      "0: ('SMITH', 'CLERK', 800.0)\n",
      "1: ('JONES', 'MANAGER', 2975.0)\n",
      "2: ('ADAMS', 'CLERK', 1100.0)\n",
      "\n",
      "=== 14 RESULTS ===\n",
      "empno ename job mgr hiredate sal comm deptno\n",
      "0: (7369, 'SMITH', 'CLERK', 7902, datetime.date(1980, 12, 17), 800.0, None, 20)\n",
      "1: (7499, 'ALLEN', 'SALESMAN', 7698, datetime.date(1981, 2, 20), 1600.0, 300.0, 30)\n",
      "2: (7521, 'WARD', 'SALESMAN', 7698, datetime.date(1981, 2, 22), 1250.0, 500.0, 30)\n",
      "3: (7566, 'JONES', 'MANAGER', 7839, datetime.date(1981, 4, 2), 2975.0, None, 20)\n",
      "4: (7654, 'MARTIN', 'SALESMAN', 7698, datetime.date(1981, 9, 28), 1250.0, 1400.0, 30)\n",
      "5: (7698, 'BLAKE', 'MANAGER', 7839, datetime.date(1981, 5, 1), 2850.0, None, 30)\n",
      "6: (7782, 'CLARK', 'MANAGER', 7839, datetime.date(1981, 6, 9), 2450.0, None, 10)\n",
      "7: (7788, 'SCOTT', 'ANALYST', 7566, datetime.date(1981, 12, 9), 3000.0, None, 20)\n",
      "8: (7839, 'KING', 'PRESIDENT', None, datetime.date(1981, 11, 17), 5000.0, None, 10)\n",
      "9: (7844, 'TURNER', 'SALESMAN', 7698, datetime.date(1981, 9, 8), 1500.0, 0.0, 30)\n",
      "10: (7876, 'ADAMS', 'CLERK', 7788, datetime.date(1983, 1, 12), 1100.0, None, 20)\n",
      "11: (7900, 'JAMES', 'CLERK', 7698, datetime.date(1981, 12, 3), 950.0, None, 30)\n",
      "12: (7902, 'FORD', 'ANALYST', 7566, datetime.date(1981, 12, 3), 3000.0, None, 20)\n",
      "13: (7934, 'MILLER', 'CLERK', 7782, datetime.date(1982, 1, 23), 1300.0, None, 10)\n",
      "\n",
      "=== 4 RESULTS ===\n",
      "deptno dname loc\n",
      "0: (10, 'ACCOUNTING', 'NEW YORK')\n",
      "1: (20, 'RESEARCH', 'DALLAS')\n",
      "2: (30, 'SALES', 'CHICAGO')\n",
      "3: (40, 'OPERATIONS', 'BOSTON')\n",
      "\n"
     ]
    }
   ],
   "source": [
    "execute_sql_output_result(\"\"\"\n",
    "    SELECT ename, job, sal FROM\n",
    "        (SELECT * FROM emp WHERE job in ('MANAGER', 'CLERK')) eFilter,\n",
    "        (SELECT * FROM dept WHERE loc = 'DALLAS') dFilter\n",
    "        WHERE eFilter.deptno = dFilter.deptno;\n",
    "\"\"\")\n",
    "\n",
    "execute_sql_output_result(\"\"\"\n",
    "    SELECT * FROM emp;\n",
    "\"\"\")\n",
    "\n",
    "execute_sql_output_result(\"\"\"\n",
    "    SELECT * FROM dept;\n",
    "\"\"\")"
   ]
  },
  {
   "cell_type": "markdown",
   "metadata": {},
   "source": [
    "## Using different notation for JOINs (preferred)\n",
    "### INNER JOIN\n",
    "`INNER JOIN`s (as previously done) join multiple tables based on common values."
   ]
  },
  {
   "cell_type": "code",
   "execution_count": 71,
   "metadata": {},
   "outputs": [
    {
     "name": "stdout",
     "output_type": "stream",
     "text": [
      "=== 14 RESULTS ===\n",
      "empno ename job mgr hiredate sal comm deptno deptno dname loc\n",
      "0: (7782, 'CLARK', 'MANAGER', 7839, datetime.date(1981, 6, 9), 2450.0, None, 10, 10, 'ACCOUNTING', 'NEW YORK')\n",
      "1: (7839, 'KING', 'PRESIDENT', None, datetime.date(1981, 11, 17), 5000.0, None, 10, 10, 'ACCOUNTING', 'NEW YORK')\n",
      "2: (7934, 'MILLER', 'CLERK', 7782, datetime.date(1982, 1, 23), 1300.0, None, 10, 10, 'ACCOUNTING', 'NEW YORK')\n",
      "3: (7369, 'SMITH', 'CLERK', 7902, datetime.date(1980, 12, 17), 800.0, None, 20, 20, 'RESEARCH', 'DALLAS')\n",
      "4: (7566, 'JONES', 'MANAGER', 7839, datetime.date(1981, 4, 2), 2975.0, None, 20, 20, 'RESEARCH', 'DALLAS')\n",
      "5: (7788, 'SCOTT', 'ANALYST', 7566, datetime.date(1981, 12, 9), 3000.0, None, 20, 20, 'RESEARCH', 'DALLAS')\n",
      "6: (7876, 'ADAMS', 'CLERK', 7788, datetime.date(1983, 1, 12), 1100.0, None, 20, 20, 'RESEARCH', 'DALLAS')\n",
      "7: (7902, 'FORD', 'ANALYST', 7566, datetime.date(1981, 12, 3), 3000.0, None, 20, 20, 'RESEARCH', 'DALLAS')\n",
      "8: (7499, 'ALLEN', 'SALESMAN', 7698, datetime.date(1981, 2, 20), 1600.0, 300.0, 30, 30, 'SALES', 'CHICAGO')\n",
      "9: (7521, 'WARD', 'SALESMAN', 7698, datetime.date(1981, 2, 22), 1250.0, 500.0, 30, 30, 'SALES', 'CHICAGO')\n",
      "10: (7654, 'MARTIN', 'SALESMAN', 7698, datetime.date(1981, 9, 28), 1250.0, 1400.0, 30, 30, 'SALES', 'CHICAGO')\n",
      "11: (7698, 'BLAKE', 'MANAGER', 7839, datetime.date(1981, 5, 1), 2850.0, None, 30, 30, 'SALES', 'CHICAGO')\n",
      "12: (7844, 'TURNER', 'SALESMAN', 7698, datetime.date(1981, 9, 8), 1500.0, 0.0, 30, 30, 'SALES', 'CHICAGO')\n",
      "13: (7900, 'JAMES', 'CLERK', 7698, datetime.date(1981, 12, 3), 950.0, None, 30, 30, 'SALES', 'CHICAGO')\n",
      "\n"
     ]
    }
   ],
   "source": [
    "execute_sql_output_result(\"\"\"\n",
    "    SELECT * FROM emp INNER JOIN dept ON\n",
    "        emp.deptno = dept.deptno;\n",
    "\"\"\")"
   ]
  },
  {
   "cell_type": "markdown",
   "metadata": {},
   "source": [
    "### RIGHT/LEFT JOIN\n",
    "Right join specifies to give all of the data from the table on the right. Left join specifies to give all of the data from the leftward table. The keyword LEFT or RIGHT specifies which of the two tables we get all of the data output from.\n",
    "\n",
    "**NOTE**: `RIGHT OUTER JOIN` and `LEFT OUTER JOIN` are synonymous with `RIGHT JOIN` and `LEFT JOIN`."
   ]
  },
  {
   "cell_type": "code",
   "execution_count": 72,
   "metadata": {},
   "outputs": [
    {
     "name": "stdout",
     "output_type": "stream",
     "text": [
      "RIGHT JOIN\n",
      "=== 15 RESULTS ===\n",
      "empno ename job mgr hiredate sal comm deptno deptno dname loc\n",
      "0: (7782, 'CLARK', 'MANAGER', 7839, datetime.date(1981, 6, 9), 2450.0, None, 10, 10, 'ACCOUNTING', 'NEW YORK')\n",
      "1: (7839, 'KING', 'PRESIDENT', None, datetime.date(1981, 11, 17), 5000.0, None, 10, 10, 'ACCOUNTING', 'NEW YORK')\n",
      "2: (7934, 'MILLER', 'CLERK', 7782, datetime.date(1982, 1, 23), 1300.0, None, 10, 10, 'ACCOUNTING', 'NEW YORK')\n",
      "3: (7369, 'SMITH', 'CLERK', 7902, datetime.date(1980, 12, 17), 800.0, None, 20, 20, 'RESEARCH', 'DALLAS')\n",
      "4: (7566, 'JONES', 'MANAGER', 7839, datetime.date(1981, 4, 2), 2975.0, None, 20, 20, 'RESEARCH', 'DALLAS')\n",
      "5: (7788, 'SCOTT', 'ANALYST', 7566, datetime.date(1981, 12, 9), 3000.0, None, 20, 20, 'RESEARCH', 'DALLAS')\n",
      "6: (7876, 'ADAMS', 'CLERK', 7788, datetime.date(1983, 1, 12), 1100.0, None, 20, 20, 'RESEARCH', 'DALLAS')\n",
      "7: (7902, 'FORD', 'ANALYST', 7566, datetime.date(1981, 12, 3), 3000.0, None, 20, 20, 'RESEARCH', 'DALLAS')\n",
      "8: (7499, 'ALLEN', 'SALESMAN', 7698, datetime.date(1981, 2, 20), 1600.0, 300.0, 30, 30, 'SALES', 'CHICAGO')\n",
      "9: (7521, 'WARD', 'SALESMAN', 7698, datetime.date(1981, 2, 22), 1250.0, 500.0, 30, 30, 'SALES', 'CHICAGO')\n",
      "10: (7654, 'MARTIN', 'SALESMAN', 7698, datetime.date(1981, 9, 28), 1250.0, 1400.0, 30, 30, 'SALES', 'CHICAGO')\n",
      "11: (7698, 'BLAKE', 'MANAGER', 7839, datetime.date(1981, 5, 1), 2850.0, None, 30, 30, 'SALES', 'CHICAGO')\n",
      "12: (7844, 'TURNER', 'SALESMAN', 7698, datetime.date(1981, 9, 8), 1500.0, 0.0, 30, 30, 'SALES', 'CHICAGO')\n",
      "13: (7900, 'JAMES', 'CLERK', 7698, datetime.date(1981, 12, 3), 950.0, None, 30, 30, 'SALES', 'CHICAGO')\n",
      "14: (None, None, None, None, None, None, None, None, 40, 'OPERATIONS', 'BOSTON')\n",
      "\n",
      "LEFT JOIN\n",
      "=== 14 RESULTS ===\n",
      "empno ename job mgr hiredate sal comm deptno deptno dname loc\n",
      "0: (7782, 'CLARK', 'MANAGER', 7839, datetime.date(1981, 6, 9), 2450.0, None, 10, 10, 'ACCOUNTING', 'NEW YORK')\n",
      "1: (7839, 'KING', 'PRESIDENT', None, datetime.date(1981, 11, 17), 5000.0, None, 10, 10, 'ACCOUNTING', 'NEW YORK')\n",
      "2: (7934, 'MILLER', 'CLERK', 7782, datetime.date(1982, 1, 23), 1300.0, None, 10, 10, 'ACCOUNTING', 'NEW YORK')\n",
      "3: (7369, 'SMITH', 'CLERK', 7902, datetime.date(1980, 12, 17), 800.0, None, 20, 20, 'RESEARCH', 'DALLAS')\n",
      "4: (7566, 'JONES', 'MANAGER', 7839, datetime.date(1981, 4, 2), 2975.0, None, 20, 20, 'RESEARCH', 'DALLAS')\n",
      "5: (7788, 'SCOTT', 'ANALYST', 7566, datetime.date(1981, 12, 9), 3000.0, None, 20, 20, 'RESEARCH', 'DALLAS')\n",
      "6: (7876, 'ADAMS', 'CLERK', 7788, datetime.date(1983, 1, 12), 1100.0, None, 20, 20, 'RESEARCH', 'DALLAS')\n",
      "7: (7902, 'FORD', 'ANALYST', 7566, datetime.date(1981, 12, 3), 3000.0, None, 20, 20, 'RESEARCH', 'DALLAS')\n",
      "8: (7499, 'ALLEN', 'SALESMAN', 7698, datetime.date(1981, 2, 20), 1600.0, 300.0, 30, 30, 'SALES', 'CHICAGO')\n",
      "9: (7521, 'WARD', 'SALESMAN', 7698, datetime.date(1981, 2, 22), 1250.0, 500.0, 30, 30, 'SALES', 'CHICAGO')\n",
      "10: (7654, 'MARTIN', 'SALESMAN', 7698, datetime.date(1981, 9, 28), 1250.0, 1400.0, 30, 30, 'SALES', 'CHICAGO')\n",
      "11: (7698, 'BLAKE', 'MANAGER', 7839, datetime.date(1981, 5, 1), 2850.0, None, 30, 30, 'SALES', 'CHICAGO')\n",
      "12: (7844, 'TURNER', 'SALESMAN', 7698, datetime.date(1981, 9, 8), 1500.0, 0.0, 30, 30, 'SALES', 'CHICAGO')\n",
      "13: (7900, 'JAMES', 'CLERK', 7698, datetime.date(1981, 12, 3), 950.0, None, 30, 30, 'SALES', 'CHICAGO')\n",
      "\n"
     ]
    }
   ],
   "source": [
    "#Right join\n",
    "print(\"RIGHT JOIN\")\n",
    "execute_sql_output_result(\"\"\"\n",
    "    SELECT * FROM emp RIGHT JOIN dept ON\n",
    "        emp.deptno = dept.deptno;\n",
    "\"\"\")\n",
    "\n",
    "#Left join\n",
    "print(\"LEFT JOIN\")\n",
    "execute_sql_output_result(\"\"\"\n",
    "    SELECT * FROM emp LEFT JOIN dept ON\n",
    "        emp.deptno = dept.deptno;\n",
    "\"\"\")"
   ]
  },
  {
   "cell_type": "markdown",
   "metadata": {},
   "source": [
    "## FULL OUTER JOIN\n",
    "Outer joins are used for finding a record that may not have a match in another table [see example with Tim](https://stackoverflow.com/questions/4796872/how-to-do-a-full-outer-join-in-mysql).\n",
    "* \"A full outer join would give us all records from both tables, whether or not they have a match in the other table, with NULLs on both sides where there is no match.\"\n",
    "\n",
    "However, `FULL JOIN`s are not implemented in MySQL, but can be emulated using code from the first answer in the source above."
   ]
  },
  {
   "cell_type": "code",
   "execution_count": 73,
   "metadata": {},
   "outputs": [],
   "source": [
    "sql_syntax = \"\"\"\n",
    "    SELECT * FROM emp FULL OUTER JOIN dept ON\n",
    "        emp.deptno = dept.deptno;\n",
    "\"\"\"\n",
    "#execute_sql_output_result(sql_syntax)"
   ]
  },
  {
   "cell_type": "code",
   "execution_count": 79,
   "metadata": {},
   "outputs": [
    {
     "name": "stdout",
     "output_type": "stream",
     "text": [
      "=== 7 RESULTS ===\n",
      "empno ename job mgr hiredate sal comm deptno deptno dname loc\n",
      "0: (None, None, None, None, None, None, None, None, 10, 'ACCOUNTING', 'NEW YORK')\n",
      "1: (None, None, None, None, None, None, None, None, 20, 'RESEARCH', 'DALLAS')\n",
      "2: (7499, 'ALLEN', 'SALESMAN', 7698, datetime.date(1981, 2, 20), 1600.0, 300.0, 30, 30, 'SALES', 'CHICAGO')\n",
      "3: (7521, 'WARD', 'SALESMAN', 7698, datetime.date(1981, 2, 22), 1250.0, 500.0, 30, 30, 'SALES', 'CHICAGO')\n",
      "4: (7654, 'MARTIN', 'SALESMAN', 7698, datetime.date(1981, 9, 28), 1250.0, 1400.0, 30, 30, 'SALES', 'CHICAGO')\n",
      "5: (7844, 'TURNER', 'SALESMAN', 7698, datetime.date(1981, 9, 8), 1500.0, 0.0, 30, 30, 'SALES', 'CHICAGO')\n",
      "6: (None, None, None, None, None, None, None, None, 40, 'OPERATIONS', 'BOSTON')\n",
      "\n"
     ]
    }
   ],
   "source": [
    "execute_sql_output_result(\"\"\"\n",
    "    SELECT * FROM\n",
    "        (SELECT * FROM emp WHERE job = 'SALESMAN') e RIGHT JOIN dept\n",
    "        ON\n",
    "            e.deptno = dept.deptno;\n",
    "\"\"\")"
   ]
  },
  {
   "cell_type": "markdown",
   "metadata": {},
   "source": [
    "## EXISTS\n",
    "Exists can be used in conjunction with NOT to specify a boolean value. However, EXISTS in this context is inefficient since it must be run for each row in the query."
   ]
  },
  {
   "cell_type": "code",
   "execution_count": 84,
   "metadata": {},
   "outputs": [
    {
     "name": "stdout",
     "output_type": "stream",
     "text": [
      "=== 14 RESULTS ===\n",
      "empno ename job mgr hiredate sal comm deptno\n",
      "0: (7369, 'SMITH', 'CLERK', 7902, datetime.date(1980, 12, 17), 800.0, None, 20)\n",
      "1: (7499, 'ALLEN', 'SALESMAN', 7698, datetime.date(1981, 2, 20), 1600.0, 300.0, 30)\n",
      "2: (7521, 'WARD', 'SALESMAN', 7698, datetime.date(1981, 2, 22), 1250.0, 500.0, 30)\n",
      "3: (7566, 'JONES', 'MANAGER', 7839, datetime.date(1981, 4, 2), 2975.0, None, 20)\n",
      "4: (7654, 'MARTIN', 'SALESMAN', 7698, datetime.date(1981, 9, 28), 1250.0, 1400.0, 30)\n",
      "5: (7698, 'BLAKE', 'MANAGER', 7839, datetime.date(1981, 5, 1), 2850.0, None, 30)\n",
      "6: (7782, 'CLARK', 'MANAGER', 7839, datetime.date(1981, 6, 9), 2450.0, None, 10)\n",
      "7: (7788, 'SCOTT', 'ANALYST', 7566, datetime.date(1981, 12, 9), 3000.0, None, 20)\n",
      "8: (7839, 'KING', 'PRESIDENT', None, datetime.date(1981, 11, 17), 5000.0, None, 10)\n",
      "9: (7844, 'TURNER', 'SALESMAN', 7698, datetime.date(1981, 9, 8), 1500.0, 0.0, 30)\n",
      "10: (7876, 'ADAMS', 'CLERK', 7788, datetime.date(1983, 1, 12), 1100.0, None, 20)\n",
      "11: (7900, 'JAMES', 'CLERK', 7698, datetime.date(1981, 12, 3), 950.0, None, 30)\n",
      "12: (7902, 'FORD', 'ANALYST', 7566, datetime.date(1981, 12, 3), 3000.0, None, 20)\n",
      "13: (7934, 'MILLER', 'CLERK', 7782, datetime.date(1982, 1, 23), 1300.0, None, 10)\n",
      "\n",
      "=== 0 RESULTS ===\n",
      "empno ename job mgr hiredate sal comm deptno\n",
      "\n"
     ]
    }
   ],
   "source": [
    "execute_sql_output_result(\"\"\"\n",
    "    SELECT * FROM emp WHERE\n",
    "        EXISTS (SELECT * FROM dual)\n",
    "\"\"\")\n",
    "\n",
    "execute_sql_output_result(\"\"\"\n",
    "    SELECT * FROM emp WHERE\n",
    "        NOT EXISTS (SELECT * FROM dual)\n",
    "\"\"\")"
   ]
  },
  {
   "cell_type": "markdown",
   "metadata": {},
   "source": [
    "### Better use cases (Correlated Subqueries)\n",
    "Correlated subqueries correlate a subquery with it's corresponding outer query. In the below queries, the subquery uses the outer alias d for it's own query."
   ]
  },
  {
   "cell_type": "code",
   "execution_count": 86,
   "metadata": {},
   "outputs": [
    {
     "name": "stdout",
     "output_type": "stream",
     "text": [
      "=== 3 RESULTS ===\n",
      "deptno dname loc\n",
      "0: (10, 'ACCOUNTING', 'NEW YORK')\n",
      "1: (20, 'RESEARCH', 'DALLAS')\n",
      "2: (30, 'SALES', 'CHICAGO')\n",
      "\n",
      "=== 1 RESULTS ===\n",
      "deptno dname loc\n",
      "0: (40, 'OPERATIONS', 'BOSTON')\n",
      "\n"
     ]
    }
   ],
   "source": [
    "execute_sql_output_result(\"\"\"\n",
    "    SELECT d.* FROM dept d WHERE EXISTS\n",
    "        (SELECT * FROM emp WHERE d.deptno = emp.deptno)\n",
    "\"\"\")\n",
    "\n",
    "execute_sql_output_result(\"\"\"\n",
    "    SELECT d.* FROM dept d WHERE NOT EXISTS\n",
    "        (SELECT * FROM emp WHERE d.deptno = emp.deptno)\n",
    "\"\"\")"
   ]
  }
 ],
 "metadata": {
  "kernelspec": {
   "display_name": "Python 3",
   "language": "python",
   "name": "python3"
  },
  "language_info": {
   "codemirror_mode": {
    "name": "ipython",
    "version": 3
   },
   "file_extension": ".py",
   "mimetype": "text/x-python",
   "name": "python",
   "nbconvert_exporter": "python",
   "pygments_lexer": "ipython3",
   "version": "3.5.4"
  }
 },
 "nbformat": 4,
 "nbformat_minor": 2
}
