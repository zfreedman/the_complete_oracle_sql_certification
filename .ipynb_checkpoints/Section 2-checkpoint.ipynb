{
 "cells": [
  {
   "cell_type": "markdown",
   "metadata": {},
   "source": [
    "# Section 1\n",
    "## Read in database credentials\n",
    "Below the credentials for connecting to the database are read into variables by extracting the lines from the local file. The local file is not included in the repo."
   ]
  },
  {
   "cell_type": "code",
   "execution_count": 1,
   "metadata": {},
   "outputs": [],
   "source": [
    "db_name = \"\"\n",
    "db_user = \"\"\n",
    "db_pass = \"\"\n",
    "db_host = \"\"\n",
    "with open(\"database_credentials.txt\") as f:\n",
    "    db_name = f.readline().strip()\n",
    "    db_user = f.readline().strip()\n",
    "    db_pass = f.readline().strip()\n",
    "    db_host = f.readline().strip()"
   ]
  },
  {
   "cell_type": "markdown",
   "metadata": {},
   "source": [
    "## Test connection\n",
    "The next code segment tests to ensure that the database connection is working properly."
   ]
  },
  {
   "cell_type": "code",
   "execution_count": 2,
   "metadata": {},
   "outputs": [],
   "source": [
    "import pymysql as pms"
   ]
  },
  {
   "cell_type": "code",
   "execution_count": 3,
   "metadata": {},
   "outputs": [
    {
     "name": "stdout",
     "output_type": "stream",
     "text": [
      "Successfully connected\n",
      "Closing connection\n"
     ]
    }
   ],
   "source": [
    "try:\n",
    "    con = pms.connect(host=db_host, user=db_user, passwd=db_pass, db=db_name)\n",
    "    print(\"Successfully connected\")\n",
    "finally:\n",
    "    if con:\n",
    "        print(\"Closing connection\")\n",
    "        con.close()"
   ]
  },
  {
   "cell_type": "markdown",
   "metadata": {},
   "source": [
    "## Shorthand connect to database\n",
    "This method will just return a new database connection with the default credentials made available above."
   ]
  },
  {
   "cell_type": "code",
   "execution_count": 4,
   "metadata": {},
   "outputs": [],
   "source": [
    "def get_connect():\n",
    "    \"\"\"\n",
    "    Returns a database connection object using the default parameters\n",
    "    specified in the database_credentials file read in at the start of\n",
    "    this notebook.\n",
    "    \"\"\"\n",
    "    return pms.connect(host=db_host, user=db_user, passwd=db_pass, db=db_name);"
   ]
  },
  {
   "cell_type": "markdown",
   "metadata": {},
   "source": [
    "## WHERE with column relations\n",
    "The **WHERE** clause can be used to specify column value requirements. However, although `WHERE sal <= 2000` and `WHERE ename = 'BILL'` are valid, variable selection like `WHERE comm < sal` is also valid."
   ]
  },
  {
   "cell_type": "code",
   "execution_count": 6,
   "metadata": {},
   "outputs": [
    {
     "name": "stdout",
     "output_type": "stream",
     "text": [
      "(7499, 'ALLEN', 'SALESMAN', 7698, datetime.date(1981, 2, 20), 1600.0, 300.0, 30)\n",
      "(7521, 'WARD', 'SALESMAN', 7698, datetime.date(1981, 2, 22), 1250.0, 500.0, 30)\n",
      "(7844, 'TURNER', 'SALESMAN', 7698, datetime.date(1981, 9, 8), 1500.0, 0.0, 30)\n"
     ]
    }
   ],
   "source": [
    "try:\n",
    "    con = get_connect()\n",
    "    cur = con.cursor()\n",
    "    \n",
    "    sql = \"\"\"\n",
    "        SELECT * FROM emp WHERE comm < sal;\n",
    "    \"\"\"\n",
    "    cur.execute(sql)\n",
    "    for row in cur.fetchall():\n",
    "        print(row)\n",
    "finally:\n",
    "    if con:\n",
    "        con.close()"
   ]
  },
  {
   "cell_type": "markdown",
   "metadata": {},
   "source": [
    "## Multiple AND operators within a WHERE clause\n",
    "`AND` operators can be used to perform more complex `WHERE` queries."
   ]
  },
  {
   "cell_type": "code",
   "execution_count": 10,
   "metadata": {},
   "outputs": [
    {
     "name": "stdout",
     "output_type": "stream",
     "text": [
      "(7788, 'SCOTT', 'ANALYST', 7566, datetime.date(1981, 12, 9), 3000.0, None, 20)\n",
      "(7902, 'FORD', 'ANALYST', 7566, datetime.date(1981, 12, 3), 3000.0, None, 20)\n"
     ]
    }
   ],
   "source": [
    "try:\n",
    "    con = get_connect()\n",
    "    cur = con.cursor()\n",
    "    sql = \"\"\"\n",
    "        SELECT * FROM emp WHERE\n",
    "            job != 'MANAGER' AND\n",
    "            sal > 2500 AND\n",
    "            deptno = 20\n",
    "    \"\"\"\n",
    "    cur.execute(sql)\n",
    "    for row in cur.fetchall():\n",
    "        print(row)\n",
    "finally:\n",
    "    if con:\n",
    "        con.close()"
   ]
  },
  {
   "cell_type": "markdown",
   "metadata": {},
   "source": [
    "**Note**: It is best practice to query like `sal > 2500` as opposed to `2500 < sal`."
   ]
  },
  {
   "cell_type": "markdown",
   "metadata": {},
   "source": [
    "## Shorthand query execution and output\n",
    "The method below accepts a single parameter (expected query), executes the parameter as a SQL query, and outputs the results. The connection is closed before the function terminates."
   ]
  },
  {
   "cell_type": "code",
   "execution_count": 13,
   "metadata": {},
   "outputs": [],
   "source": [
    "def execute_sql_output_result(query_string):\n",
    "    \"\"\"\n",
    "    Given the query_string parameter, this function connects to the database, executes\n",
    "    the query, outputs the result, and closes the connection.\n",
    "    \"\"\"\n",
    "    try:\n",
    "        con = get_connect()\n",
    "        with con.cursor() as cur:\n",
    "            cur.execute(query_string)\n",
    "            for row in cur.fetchall():\n",
    "                print(row)\n",
    "    finally:\n",
    "        if con:\n",
    "            con.close()"
   ]
  },
  {
   "cell_type": "markdown",
   "metadata": {},
   "source": [
    "## OR clause\n",
    "The `OR` clause can be used to aggregate rows corresponding to multiple values for a single column."
   ]
  },
  {
   "cell_type": "code",
   "execution_count": 14,
   "metadata": {},
   "outputs": [
    {
     "name": "stdout",
     "output_type": "stream",
     "text": [
      "(7369, 'SMITH', 'CLERK', 7902, datetime.date(1980, 12, 17), 800.0, None, 20)\n",
      "(7499, 'ALLEN', 'SALESMAN', 7698, datetime.date(1981, 2, 20), 1600.0, 300.0, 30)\n",
      "(7521, 'WARD', 'SALESMAN', 7698, datetime.date(1981, 2, 22), 1250.0, 500.0, 30)\n",
      "(7654, 'MARTIN', 'SALESMAN', 7698, datetime.date(1981, 9, 28), 1250.0, 1400.0, 30)\n",
      "(7844, 'TURNER', 'SALESMAN', 7698, datetime.date(1981, 9, 8), 1500.0, 0.0, 30)\n",
      "(7876, 'ADAMS', 'CLERK', 7788, datetime.date(1983, 1, 12), 1100.0, None, 20)\n",
      "(7900, 'JAMES', 'CLERK', 7698, datetime.date(1981, 12, 3), 950.0, None, 30)\n",
      "(7934, 'MILLER', 'CLERK', 7782, datetime.date(1982, 1, 23), 1300.0, None, 10)\n"
     ]
    }
   ],
   "source": [
    "execute_sql_output_result(\"\"\"\n",
    "    SELECT * FROM emp WHERE\n",
    "        job='CLERK' OR\n",
    "        job='SALESMAN'\n",
    "\"\"\")"
   ]
  },
  {
   "cell_type": "markdown",
   "metadata": {},
   "source": [
    "## IN clause\n",
    "The `IN` clause can be used to query if a value belongs in a set of predefined values, similar to a multiple `OR`."
   ]
  },
  {
   "cell_type": "code",
   "execution_count": 15,
   "metadata": {},
   "outputs": [
    {
     "name": "stdout",
     "output_type": "stream",
     "text": [
      "('SMITH', datetime.date(1980, 12, 17), 20)\n",
      "('ALLEN', datetime.date(1981, 2, 20), 30)\n",
      "('WARD', datetime.date(1981, 2, 22), 30)\n",
      "('JONES', datetime.date(1981, 4, 2), 20)\n",
      "('MARTIN', datetime.date(1981, 9, 28), 30)\n",
      "('BLAKE', datetime.date(1981, 5, 1), 30)\n",
      "('SCOTT', datetime.date(1981, 12, 9), 20)\n",
      "('TURNER', datetime.date(1981, 9, 8), 30)\n",
      "('ADAMS', datetime.date(1983, 1, 12), 20)\n",
      "('JAMES', datetime.date(1981, 12, 3), 30)\n",
      "('FORD', datetime.date(1981, 12, 3), 20)\n"
     ]
    }
   ],
   "source": [
    "execute_sql_output_result(\"\"\"\n",
    "    SELECT ename,hiredate,deptno FROM emp WHERE\n",
    "        deptno IN (20, 30)\n",
    "\"\"\")"
   ]
  }
 ],
 "metadata": {
  "kernelspec": {
   "display_name": "Python 3",
   "language": "python",
   "name": "python3"
  },
  "language_info": {
   "codemirror_mode": {
    "name": "ipython",
    "version": 3
   },
   "file_extension": ".py",
   "mimetype": "text/x-python",
   "name": "python",
   "nbconvert_exporter": "python",
   "pygments_lexer": "ipython3",
   "version": "3.5.5"
  }
 },
 "nbformat": 4,
 "nbformat_minor": 2
}
